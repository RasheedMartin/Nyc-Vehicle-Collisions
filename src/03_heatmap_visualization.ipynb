{
 "cells": [
  {
   "cell_type": "markdown",
   "source": [
    "# Hotspot Analysis for Car Accidents in New York City"
   ],
   "metadata": {
    "collapsed": false
   },
   "id": "149cb0ec805d6e24"
  },
  {
   "cell_type": "code",
   "execution_count": 6,
   "id": "initial_id",
   "metadata": {
    "collapsed": true,
    "ExecuteTime": {
     "end_time": "2024-10-23T03:01:34.806486Z",
     "start_time": "2024-10-23T03:01:34.800272Z"
    }
   },
   "outputs": [],
   "source": [
    "import folium\n",
    "from folium.plugins import HeatMap\n",
    "from folium.plugins import MarkerCluster\n",
    "from folium.plugins import TagFilterButton\n",
    "\n",
    "import pandas as pd\n",
    "from pathlib import Path"
   ]
  },
  {
   "cell_type": "code",
   "outputs": [],
   "source": [
    "# Get File Path\n",
    "dir_path = Path().resolve().parent\n",
    "if (dir_path / Path('data_files/clean_data')).exists():\n",
    "    data_path = dir_path / Path('data_files/clean_data')\n",
    "else:\n",
    "    (dir_path / Path('data_files/clean_data')).mkdir(parents=True, exist_ok=True)\n",
    "    data_path = dir_path / Path('data_files/clean_data')"
   ],
   "metadata": {
    "collapsed": false,
    "ExecuteTime": {
     "end_time": "2024-10-23T03:01:34.820770Z",
     "start_time": "2024-10-23T03:01:34.808923Z"
    }
   },
   "id": "6e756c83ba5caca8",
   "execution_count": 7
  },
  {
   "cell_type": "code",
   "outputs": [
    {
     "data": {
      "text/plain": "   COLLISION_ID CRASH_DATE CRASH_TIME   LATITUDE  LONGITUDE  \\\n0       4273725 2020-01-14   22:00:00  40.860195 -73.828800   \n1       4690423 2023-12-26   22:15:00  40.829422 -73.897575   \n2       3844005 2018-02-11   13:00:00  40.878310 -73.870155   \n3       4591181 2022-12-15   11:39:00  40.882630 -73.839516   \n4       3515925 2016-09-08   08:50:00  40.814266 -73.912964   \n\n   NUMBER_OF_PERSONS_INJURED  NUMBER_OF_PERSONS_KILLED  \\\n0                          2                         0   \n1                          1                         0   \n2                          2                         0   \n3                          1                         0   \n4                          1                         0   \n\n    CONTRIBUTING_FACTOR_VEHICLE_1   CONTRIBUTING_FACTOR_VEHICLE_2  \\\n0  Driver Inattention/Distraction                     Unspecified   \n1             Driver Inexperience                     Unspecified   \n2              Turning Improperly                    Unsafe Speed   \n3  Passing or Lane Usage Improper  Passing or Lane Usage Improper   \n4           Following Too Closely                     Unspecified   \n\n  ACCIDENT_SEVERITY  ... BOROUGH_ENCODED  PERSON_TYPE_ENCODED  \\\n0      Minor Injury  ...               0                    1   \n1      Minor Injury  ...               0                    2   \n2      Minor Injury  ...               0                    1   \n3      Minor Injury  ...               0                    1   \n4      Minor Injury  ...               0                    1   \n\n  PERSON_SEX_ENCODED BODILY_INJURY_ENCODED EJECTION_ENCODED  YEAR MONTH  \\\n0                  0                    10                1  2020     1   \n1                  1                     9                1  2023    12   \n2                  0                    10                1  2018     2   \n3                  1                    10                1  2022    12   \n4                  0                    10                1  2016     9   \n\n  DAY_OF_WEEK IS_WEEKEND SEASON  \n0           1          0      1  \n1           1          0      4  \n2           6          1      1  \n3           3          0      4  \n4           3          0      3  \n\n[5 rows x 35 columns]",
      "text/html": "<div>\n<style scoped>\n    .dataframe tbody tr th:only-of-type {\n        vertical-align: middle;\n    }\n\n    .dataframe tbody tr th {\n        vertical-align: top;\n    }\n\n    .dataframe thead th {\n        text-align: right;\n    }\n</style>\n<table border=\"1\" class=\"dataframe\">\n  <thead>\n    <tr style=\"text-align: right;\">\n      <th></th>\n      <th>COLLISION_ID</th>\n      <th>CRASH_DATE</th>\n      <th>CRASH_TIME</th>\n      <th>LATITUDE</th>\n      <th>LONGITUDE</th>\n      <th>NUMBER_OF_PERSONS_INJURED</th>\n      <th>NUMBER_OF_PERSONS_KILLED</th>\n      <th>CONTRIBUTING_FACTOR_VEHICLE_1</th>\n      <th>CONTRIBUTING_FACTOR_VEHICLE_2</th>\n      <th>ACCIDENT_SEVERITY</th>\n      <th>...</th>\n      <th>BOROUGH_ENCODED</th>\n      <th>PERSON_TYPE_ENCODED</th>\n      <th>PERSON_SEX_ENCODED</th>\n      <th>BODILY_INJURY_ENCODED</th>\n      <th>EJECTION_ENCODED</th>\n      <th>YEAR</th>\n      <th>MONTH</th>\n      <th>DAY_OF_WEEK</th>\n      <th>IS_WEEKEND</th>\n      <th>SEASON</th>\n    </tr>\n  </thead>\n  <tbody>\n    <tr>\n      <th>0</th>\n      <td>4273725</td>\n      <td>2020-01-14</td>\n      <td>22:00:00</td>\n      <td>40.860195</td>\n      <td>-73.828800</td>\n      <td>2</td>\n      <td>0</td>\n      <td>Driver Inattention/Distraction</td>\n      <td>Unspecified</td>\n      <td>Minor Injury</td>\n      <td>...</td>\n      <td>0</td>\n      <td>1</td>\n      <td>0</td>\n      <td>10</td>\n      <td>1</td>\n      <td>2020</td>\n      <td>1</td>\n      <td>1</td>\n      <td>0</td>\n      <td>1</td>\n    </tr>\n    <tr>\n      <th>1</th>\n      <td>4690423</td>\n      <td>2023-12-26</td>\n      <td>22:15:00</td>\n      <td>40.829422</td>\n      <td>-73.897575</td>\n      <td>1</td>\n      <td>0</td>\n      <td>Driver Inexperience</td>\n      <td>Unspecified</td>\n      <td>Minor Injury</td>\n      <td>...</td>\n      <td>0</td>\n      <td>2</td>\n      <td>1</td>\n      <td>9</td>\n      <td>1</td>\n      <td>2023</td>\n      <td>12</td>\n      <td>1</td>\n      <td>0</td>\n      <td>4</td>\n    </tr>\n    <tr>\n      <th>2</th>\n      <td>3844005</td>\n      <td>2018-02-11</td>\n      <td>13:00:00</td>\n      <td>40.878310</td>\n      <td>-73.870155</td>\n      <td>2</td>\n      <td>0</td>\n      <td>Turning Improperly</td>\n      <td>Unsafe Speed</td>\n      <td>Minor Injury</td>\n      <td>...</td>\n      <td>0</td>\n      <td>1</td>\n      <td>0</td>\n      <td>10</td>\n      <td>1</td>\n      <td>2018</td>\n      <td>2</td>\n      <td>6</td>\n      <td>1</td>\n      <td>1</td>\n    </tr>\n    <tr>\n      <th>3</th>\n      <td>4591181</td>\n      <td>2022-12-15</td>\n      <td>11:39:00</td>\n      <td>40.882630</td>\n      <td>-73.839516</td>\n      <td>1</td>\n      <td>0</td>\n      <td>Passing or Lane Usage Improper</td>\n      <td>Passing or Lane Usage Improper</td>\n      <td>Minor Injury</td>\n      <td>...</td>\n      <td>0</td>\n      <td>1</td>\n      <td>1</td>\n      <td>10</td>\n      <td>1</td>\n      <td>2022</td>\n      <td>12</td>\n      <td>3</td>\n      <td>0</td>\n      <td>4</td>\n    </tr>\n    <tr>\n      <th>4</th>\n      <td>3515925</td>\n      <td>2016-09-08</td>\n      <td>08:50:00</td>\n      <td>40.814266</td>\n      <td>-73.912964</td>\n      <td>1</td>\n      <td>0</td>\n      <td>Following Too Closely</td>\n      <td>Unspecified</td>\n      <td>Minor Injury</td>\n      <td>...</td>\n      <td>0</td>\n      <td>1</td>\n      <td>0</td>\n      <td>10</td>\n      <td>1</td>\n      <td>2016</td>\n      <td>9</td>\n      <td>3</td>\n      <td>0</td>\n      <td>3</td>\n    </tr>\n  </tbody>\n</table>\n<p>5 rows × 35 columns</p>\n</div>"
     },
     "execution_count": 8,
     "metadata": {},
     "output_type": "execute_result"
    }
   ],
   "source": [
    "# Read in the data\n",
    "model_data_path = Path(data_path / 'location_model_data.csv')\n",
    "if model_data_path.exists():\n",
    "    location_df = pd.read_csv(str(model_data_path), parse_dates=['CRASH_DATE'])\n",
    "    location_df.head()\n",
    "else:\n",
    "    raise FileNotFoundError('Please run @02_accident_severity_model.ipynb first!')"
   ],
   "metadata": {
    "collapsed": false,
    "ExecuteTime": {
     "end_time": "2024-10-23T03:01:35.480794Z",
     "start_time": "2024-10-23T03:01:34.813743Z"
    }
   },
   "id": "c16ba960443f36ea",
   "execution_count": 8
  },
  {
   "cell_type": "code",
   "outputs": [
    {
     "name": "stdout",
     "output_type": "stream",
     "text": [
      "<class 'pandas.core.frame.DataFrame'>\n",
      "RangeIndex: 189843 entries, 0 to 189842\n",
      "Data columns (total 35 columns):\n",
      " #   Column                                 Non-Null Count   Dtype         \n",
      "---  ------                                 --------------   -----         \n",
      " 0   COLLISION_ID                           189843 non-null  int64         \n",
      " 1   CRASH_DATE                             189843 non-null  datetime64[ns]\n",
      " 2   CRASH_TIME                             189843 non-null  object        \n",
      " 3   LATITUDE                               189843 non-null  float64       \n",
      " 4   LONGITUDE                              189843 non-null  float64       \n",
      " 5   NUMBER_OF_PERSONS_INJURED              189843 non-null  int64         \n",
      " 6   NUMBER_OF_PERSONS_KILLED               189843 non-null  int64         \n",
      " 7   CONTRIBUTING_FACTOR_VEHICLE_1          189843 non-null  object        \n",
      " 8   CONTRIBUTING_FACTOR_VEHICLE_2          189843 non-null  object        \n",
      " 9   ACCIDENT_SEVERITY                      189843 non-null  object        \n",
      " 10  BOROUGH                                189843 non-null  object        \n",
      " 11  PERSON_AGE                             189843 non-null  int64         \n",
      " 12  PERSON_TYPE                            189843 non-null  object        \n",
      " 13  PERSON_SEX                             189843 non-null  object        \n",
      " 14  PERSON_INJURY                          189843 non-null  object        \n",
      " 15  EMOTIONAL_STATUS                       189843 non-null  object        \n",
      " 16  BODILY_INJURY                          189843 non-null  object        \n",
      " 17  SAFETY_EQUIPMENT                       189843 non-null  object        \n",
      " 18  EJECTION                               189843 non-null  object        \n",
      " 19  POSITION_IN_VEHICLE                    189843 non-null  object        \n",
      " 20  PED_ROLE                               189843 non-null  object        \n",
      " 21  PED_ACTION                             189843 non-null  object        \n",
      " 22  ACCIDENT_SEVERITY_ENCODED              189843 non-null  int64         \n",
      " 23  CONTRIBUTING_FACTOR_VEHICLE_1_ENCODED  189843 non-null  int64         \n",
      " 24  CONTRIBUTING_FACTOR_VEHICLE_2_ENCODED  189843 non-null  int64         \n",
      " 25  BOROUGH_ENCODED                        189843 non-null  int64         \n",
      " 26  PERSON_TYPE_ENCODED                    189843 non-null  int64         \n",
      " 27  PERSON_SEX_ENCODED                     189843 non-null  int64         \n",
      " 28  BODILY_INJURY_ENCODED                  189843 non-null  int64         \n",
      " 29  EJECTION_ENCODED                       189843 non-null  int64         \n",
      " 30  YEAR                                   189843 non-null  int64         \n",
      " 31  MONTH                                  189843 non-null  int64         \n",
      " 32  DAY_OF_WEEK                            189843 non-null  int64         \n",
      " 33  IS_WEEKEND                             189843 non-null  int64         \n",
      " 34  SEASON                                 189843 non-null  int64         \n",
      "dtypes: datetime64[ns](1), float64(2), int64(17), object(15)\n",
      "memory usage: 50.7+ MB\n"
     ]
    }
   ],
   "source": [
    "location_df.info()"
   ],
   "metadata": {
    "collapsed": false,
    "ExecuteTime": {
     "end_time": "2024-10-23T03:01:35.594615Z",
     "start_time": "2024-10-23T03:01:35.478406Z"
    }
   },
   "id": "dee53d02ba5d1f50",
   "execution_count": 9
  },
  {
   "cell_type": "markdown",
   "source": [
    "## Map of NYC Accidents \n",
    "This Map is very hard to read and understand. Cannot add Markers because of size of dataset (1M+) as well as the hardware specifications. We will need to be more specific in what insights we are looking for in this dataset."
   ],
   "metadata": {
    "collapsed": false
   },
   "id": "370fbfc7b048f35f"
  },
  {
   "cell_type": "code",
   "outputs": [
    {
     "data": {
      "text/plain": "['Bronx', 'Brooklyn', 'Manhattan', 'Queens', 'Staten Island']"
     },
     "execution_count": 10,
     "metadata": {},
     "output_type": "execute_result"
    }
   ],
   "source": [
    "boroughs = location_df['BOROUGH'].unique().tolist()\n",
    "boroughs"
   ],
   "metadata": {
    "collapsed": false,
    "ExecuteTime": {
     "end_time": "2024-10-23T03:01:35.595Z",
     "start_time": "2024-10-23T03:01:35.570129Z"
    }
   },
   "id": "9d2e3052a846f395",
   "execution_count": 10
  },
  {
   "cell_type": "code",
   "outputs": [
    {
     "data": {
      "text/plain": "(189843, 35)"
     },
     "execution_count": 11,
     "metadata": {},
     "output_type": "execute_result"
    }
   ],
   "source": [
    "location_df.shape"
   ],
   "metadata": {
    "collapsed": false,
    "ExecuteTime": {
     "end_time": "2024-10-23T03:01:35.595210Z",
     "start_time": "2024-10-23T03:01:35.576372Z"
    }
   },
   "id": "c9d2fd44709232af",
   "execution_count": 11
  },
  {
   "cell_type": "code",
   "outputs": [
    {
     "data": {
      "text/plain": "ACCIDENT_SEVERITY\nMinor Injury    143283\nMajor Injury     45588\nFatal              959\nNo Injury           13\nName: count, dtype: int64"
     },
     "execution_count": 12,
     "metadata": {},
     "output_type": "execute_result"
    }
   ],
   "source": [
    "location_df['ACCIDENT_SEVERITY'].value_counts()"
   ],
   "metadata": {
    "collapsed": false,
    "ExecuteTime": {
     "end_time": "2024-10-23T03:01:35.623375Z",
     "start_time": "2024-10-23T03:01:35.588423Z"
    }
   },
   "id": "a338ff2284cf3610",
   "execution_count": 12
  },
  {
   "cell_type": "code",
   "outputs": [],
   "source": [
    "map_ny = folium.Map(location=[40.7128, -74.0060], zoom_start=12)\n",
    "\n",
    "\n",
    "location_df = location_df.query(\"ACCIDENT_SEVERITY == 'Fatal' | ACCIDENT_SEVERITY == 'Major Injury'\")\n",
    "for x in location_df['BOROUGH'].unique():\n",
    "    temp = location_df.query(f\"BOROUGH == '{x}'\")[['LATITUDE', 'LONGITUDE']].values.tolist()\n",
    "    HeatMap(temp, radius=25, blur=15, max_zoom=13).add_to(map_ny)\n",
    "\n",
    "# Tooltips:\n",
    "marker_cluster = MarkerCluster().add_to(map_ny)\n",
    "# Dictionary to Decode Label Encodings\n",
    "season_dict = {1: 'Winter', 2: 'Spring', 3: 'Summer', 4: 'Fall'}\n",
    "severity_dict = {'No Injury': 4, 'Minor Injury': 6, 'Major Injury': 8, 'Fatal': 10}\n",
    "\n",
    "# Create the Markers on the Map\n",
    "for idx, x in location_df.iterrows(): \n",
    "    collision_id = x.loc['COLLISION_ID']\n",
    "    latitude = x.loc['LATITUDE']\n",
    "    longitude = x.loc['LONGITUDE'] \n",
    "\n",
    "    text = (f\"Accident Date: {str(x['CRASH_DATE']).split(' ')[0]} <br>\"\n",
    "             f\"Accident Time: {x.loc['CRASH_TIME']} <br>\"\n",
    "             f\"Accident Location: {latitude}, {longitude}<br>\"\n",
    "             f\"Season: {season_dict[x.loc['SEASON'] ]}<br>\"\n",
    "            )\n",
    "    text += \"Info on People Involved: <br> -----------<br>\"\n",
    "    text += (f\"Person Type: {x.loc['PERSON_TYPE']} <br>\"\n",
    "            f\"Person Age: {x.loc['PERSON_AGE']} <br>\"\n",
    "              f\"Injury Type: {x.loc['PERSON_INJURY']} <br>\"\n",
    "              f\"Bodily Injury: {x.loc['BODILY_INJURY']} <br>\"\n",
    "              f\"Emotional Status: {x.loc['EMOTIONAL_STATUS']} <br>\" \n",
    "              f\"---------------- <br>\"\n",
    "              )\n",
    "    popup = folium.Popup(text, min_width=300, max_width=300)\n",
    "    accident_severity = x.loc['ACCIDENT_SEVERITY']\n",
    "    match accident_severity:\n",
    "        case 'Fatal': \n",
    "            folium.Marker(\n",
    "                location=[latitude, longitude],\n",
    "                popup=popup,\n",
    "                icon=folium.Icon(color='red'),\n",
    "                tooltip=accident_severity, \n",
    "                tags=['Fatal']\n",
    "            ).add_to(marker_cluster)\n",
    "        case 'Major Injury': \n",
    "            folium.Marker(\n",
    "                location=[latitude, longitude],\n",
    "                popup=popup,\n",
    "                icon=folium.Icon(color='blue'),\n",
    "                tooltip=accident_severity,\n",
    "                tags=['Major Injury']\n",
    "            ).add_to(marker_cluster)\n",
    "        case 'Minor Injury': \n",
    "            folium.Marker(\n",
    "                location=[latitude, longitude],\n",
    "                popup=popup,\n",
    "                icon=folium.Icon(color='green'),\n",
    "                tooltip=accident_severity,\n",
    "                tags=['Minor Injury']\n",
    "            ).add_to(marker_cluster)\n",
    "        case 'No Injury': \n",
    "            folium.Marker(\n",
    "                location=[latitude, longitude],\n",
    "                popup=popup,\n",
    "                icon=folium.Icon(color='purple'),\n",
    "                tooltip=accident_severity,\n",
    "                tags=['No Injury']\n",
    "            ).add_to(marker_cluster)\n",
    "\n",
    "TagFilterButton(list(severity_dict.keys())).add_to(map_ny)"
   ],
   "metadata": {
    "collapsed": false,
    "ExecuteTime": {
     "end_time": "2024-10-23T03:02:18.163894Z",
     "start_time": "2024-10-23T03:01:35.595823Z"
    }
   },
   "id": "849c783aabe94e38",
   "execution_count": 13
  },
  {
   "cell_type": "code",
   "outputs": [],
   "source": [
    "map_ny.save(str(dir_path / Path('Visualizations') / \"ny_accidents_fatal_heatmap.html\"))"
   ],
   "metadata": {
    "collapsed": false
   },
   "id": "ed63d73a4351467c",
   "execution_count": 14
  }
 ],
 "metadata": {
  "kernelspec": {
   "display_name": "Python 3",
   "language": "python",
   "name": "python3"
  },
  "language_info": {
   "codemirror_mode": {
    "name": "ipython",
    "version": 2
   },
   "file_extension": ".py",
   "mimetype": "text/x-python",
   "name": "python",
   "nbconvert_exporter": "python",
   "pygments_lexer": "ipython2",
   "version": "2.7.6"
  }
 },
 "nbformat": 4,
 "nbformat_minor": 5
}
