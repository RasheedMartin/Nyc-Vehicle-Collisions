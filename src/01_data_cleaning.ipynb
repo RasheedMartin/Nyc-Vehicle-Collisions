{
 "cells": [
  {
   "cell_type": "markdown",
   "source": [
    "# Pre-Processing and Cleaning of Data"
   ],
   "metadata": {
    "collapsed": false
   },
   "id": "cf93887dee6e52fd"
  },
  {
   "cell_type": "code",
   "execution_count": 2,
   "id": "bbd9520f",
   "metadata": {
    "ExecuteTime": {
     "end_time": "2024-10-23T04:26:28.554380Z",
     "start_time": "2024-10-23T04:26:28.268737Z"
    }
   },
   "outputs": [],
   "source": [
    "import pandas as pd\n",
    "from pathlib import Path"
   ]
  },
  {
   "cell_type": "code",
   "execution_count": 3,
   "id": "f785221b",
   "metadata": {
    "ExecuteTime": {
     "end_time": "2024-10-23T04:26:28.566250Z",
     "start_time": "2024-10-23T04:26:28.555679Z"
    }
   },
   "outputs": [],
   "source": [
    "dir_path = Path().cwd().parent\n",
    "if (dir_path / Path('data_files/raw_data')).exists():\n",
    "    raw_data_path = dir_path / Path('data_files/raw_data')\n",
    "else:\n",
    "    (dir_path / Path('data_files/raw_data')).mkdir(parents=True, exist_ok=True)\n",
    "    raw_data_path = dir_path / Path('data_files/raw_data')"
   ]
  },
  {
   "cell_type": "code",
   "execution_count": 4,
   "id": "82fb76ce",
   "metadata": {
    "ExecuteTime": {
     "end_time": "2024-10-23T04:26:48.102668Z",
     "start_time": "2024-10-23T04:26:28.557684Z"
    }
   },
   "outputs": [],
   "source": [
    "crash_data_path = dir_path / raw_data_path /  Path(\"Motor_Vehicle_Collisions_-_Crashes.csv\")\n",
    "if crash_data_path.exists():\n",
    "    crash_data = pd.read_csv(str(crash_data_path), low_memory=False)\n",
    "else:\n",
    "    raise FileNotFoundError(\"Please download dataset and rename appropiately: https://data.cityofnewyork.us/Public-Safety/Motor-Vehicle-Collisions-Crashes/h9gi-nx95/about_data\")\n",
    "\n",
    "person_data_path = dir_path / raw_data_path / Path(\"Motor_Vehicle_Collisions_-_Person.csv\")\n",
    "if person_data_path.exists():\n",
    "    person_data = pd.read_csv(str(person_data_path), low_memory=False)\n",
    "else:\n",
    "    raise FileNotFoundError(\"Please download dataset and rename appropiately: https://data.cityofnewyork.us/Public-Safety/Motor-Vehicle-Collisions-Person/f55k-p6yu/about_data\")"
   ]
  },
  {
   "cell_type": "code",
   "execution_count": 5,
   "id": "11f898d8",
   "metadata": {
    "ExecuteTime": {
     "end_time": "2024-10-23T04:26:48.122210Z",
     "start_time": "2024-10-23T04:26:48.110819Z"
    }
   },
   "outputs": [
    {
     "name": "stdout",
     "output_type": "stream",
     "text": [
      "Crash Data:\n"
     ]
    },
    {
     "data": {
      "text/plain": "   CRASH DATE CRASH TIME   BOROUGH ZIP CODE   LATITUDE  LONGITUDE  \\\n0  09/11/2021       2:39       NaN      NaN        NaN        NaN   \n1  03/26/2022      11:45       NaN      NaN        NaN        NaN   \n2  06/29/2022       6:55       NaN      NaN        NaN        NaN   \n3  09/11/2021       9:35  BROOKLYN    11208  40.667202 -73.866500   \n4  12/14/2021       8:13  BROOKLYN    11233  40.683304 -73.917274   \n\n                  LOCATION           ON STREET NAME CROSS STREET NAME  \\\n0                      NaN    WHITESTONE EXPRESSWAY         20 AVENUE   \n1                      NaN  QUEENSBORO BRIDGE UPPER               NaN   \n2                      NaN       THROGS NECK BRIDGE               NaN   \n3    (40.667202, -73.8665)                      NaN               NaN   \n4  (40.683304, -73.917274)          SARATOGA AVENUE    DECATUR STREET   \n\n           OFF STREET NAME  ...  CONTRIBUTING FACTOR VEHICLE 2  \\\n0                      NaN  ...                    Unspecified   \n1                      NaN  ...                            NaN   \n2                      NaN  ...                    Unspecified   \n3  1211      LORING AVENUE  ...                            NaN   \n4                      NaN  ...                            NaN   \n\n   CONTRIBUTING FACTOR VEHICLE 3  CONTRIBUTING FACTOR VEHICLE 4  \\\n0                            NaN                            NaN   \n1                            NaN                            NaN   \n2                            NaN                            NaN   \n3                            NaN                            NaN   \n4                            NaN                            NaN   \n\n   CONTRIBUTING FACTOR VEHICLE 5  COLLISION_ID  VEHICLE TYPE CODE 1  \\\n0                            NaN       4455765                Sedan   \n1                            NaN       4513547                Sedan   \n2                            NaN       4541903                Sedan   \n3                            NaN       4456314                Sedan   \n4                            NaN       4486609                  NaN   \n\n   VEHICLE TYPE CODE 2  VEHICLE TYPE CODE 3 VEHICLE TYPE CODE 4  \\\n0                Sedan                  NaN                 NaN   \n1                  NaN                  NaN                 NaN   \n2        Pick-up Truck                  NaN                 NaN   \n3                  NaN                  NaN                 NaN   \n4                  NaN                  NaN                 NaN   \n\n  VEHICLE TYPE CODE 5  \n0                 NaN  \n1                 NaN  \n2                 NaN  \n3                 NaN  \n4                 NaN  \n\n[5 rows x 29 columns]",
      "text/html": "<div>\n<style scoped>\n    .dataframe tbody tr th:only-of-type {\n        vertical-align: middle;\n    }\n\n    .dataframe tbody tr th {\n        vertical-align: top;\n    }\n\n    .dataframe thead th {\n        text-align: right;\n    }\n</style>\n<table border=\"1\" class=\"dataframe\">\n  <thead>\n    <tr style=\"text-align: right;\">\n      <th></th>\n      <th>CRASH DATE</th>\n      <th>CRASH TIME</th>\n      <th>BOROUGH</th>\n      <th>ZIP CODE</th>\n      <th>LATITUDE</th>\n      <th>LONGITUDE</th>\n      <th>LOCATION</th>\n      <th>ON STREET NAME</th>\n      <th>CROSS STREET NAME</th>\n      <th>OFF STREET NAME</th>\n      <th>...</th>\n      <th>CONTRIBUTING FACTOR VEHICLE 2</th>\n      <th>CONTRIBUTING FACTOR VEHICLE 3</th>\n      <th>CONTRIBUTING FACTOR VEHICLE 4</th>\n      <th>CONTRIBUTING FACTOR VEHICLE 5</th>\n      <th>COLLISION_ID</th>\n      <th>VEHICLE TYPE CODE 1</th>\n      <th>VEHICLE TYPE CODE 2</th>\n      <th>VEHICLE TYPE CODE 3</th>\n      <th>VEHICLE TYPE CODE 4</th>\n      <th>VEHICLE TYPE CODE 5</th>\n    </tr>\n  </thead>\n  <tbody>\n    <tr>\n      <th>0</th>\n      <td>09/11/2021</td>\n      <td>2:39</td>\n      <td>NaN</td>\n      <td>NaN</td>\n      <td>NaN</td>\n      <td>NaN</td>\n      <td>NaN</td>\n      <td>WHITESTONE EXPRESSWAY</td>\n      <td>20 AVENUE</td>\n      <td>NaN</td>\n      <td>...</td>\n      <td>Unspecified</td>\n      <td>NaN</td>\n      <td>NaN</td>\n      <td>NaN</td>\n      <td>4455765</td>\n      <td>Sedan</td>\n      <td>Sedan</td>\n      <td>NaN</td>\n      <td>NaN</td>\n      <td>NaN</td>\n    </tr>\n    <tr>\n      <th>1</th>\n      <td>03/26/2022</td>\n      <td>11:45</td>\n      <td>NaN</td>\n      <td>NaN</td>\n      <td>NaN</td>\n      <td>NaN</td>\n      <td>NaN</td>\n      <td>QUEENSBORO BRIDGE UPPER</td>\n      <td>NaN</td>\n      <td>NaN</td>\n      <td>...</td>\n      <td>NaN</td>\n      <td>NaN</td>\n      <td>NaN</td>\n      <td>NaN</td>\n      <td>4513547</td>\n      <td>Sedan</td>\n      <td>NaN</td>\n      <td>NaN</td>\n      <td>NaN</td>\n      <td>NaN</td>\n    </tr>\n    <tr>\n      <th>2</th>\n      <td>06/29/2022</td>\n      <td>6:55</td>\n      <td>NaN</td>\n      <td>NaN</td>\n      <td>NaN</td>\n      <td>NaN</td>\n      <td>NaN</td>\n      <td>THROGS NECK BRIDGE</td>\n      <td>NaN</td>\n      <td>NaN</td>\n      <td>...</td>\n      <td>Unspecified</td>\n      <td>NaN</td>\n      <td>NaN</td>\n      <td>NaN</td>\n      <td>4541903</td>\n      <td>Sedan</td>\n      <td>Pick-up Truck</td>\n      <td>NaN</td>\n      <td>NaN</td>\n      <td>NaN</td>\n    </tr>\n    <tr>\n      <th>3</th>\n      <td>09/11/2021</td>\n      <td>9:35</td>\n      <td>BROOKLYN</td>\n      <td>11208</td>\n      <td>40.667202</td>\n      <td>-73.866500</td>\n      <td>(40.667202, -73.8665)</td>\n      <td>NaN</td>\n      <td>NaN</td>\n      <td>1211      LORING AVENUE</td>\n      <td>...</td>\n      <td>NaN</td>\n      <td>NaN</td>\n      <td>NaN</td>\n      <td>NaN</td>\n      <td>4456314</td>\n      <td>Sedan</td>\n      <td>NaN</td>\n      <td>NaN</td>\n      <td>NaN</td>\n      <td>NaN</td>\n    </tr>\n    <tr>\n      <th>4</th>\n      <td>12/14/2021</td>\n      <td>8:13</td>\n      <td>BROOKLYN</td>\n      <td>11233</td>\n      <td>40.683304</td>\n      <td>-73.917274</td>\n      <td>(40.683304, -73.917274)</td>\n      <td>SARATOGA AVENUE</td>\n      <td>DECATUR STREET</td>\n      <td>NaN</td>\n      <td>...</td>\n      <td>NaN</td>\n      <td>NaN</td>\n      <td>NaN</td>\n      <td>NaN</td>\n      <td>4486609</td>\n      <td>NaN</td>\n      <td>NaN</td>\n      <td>NaN</td>\n      <td>NaN</td>\n      <td>NaN</td>\n    </tr>\n  </tbody>\n</table>\n<p>5 rows × 29 columns</p>\n</div>"
     },
     "metadata": {},
     "output_type": "display_data"
    }
   ],
   "source": [
    "print(\"Crash Data:\")\n",
    "display(crash_data.head())"
   ]
  },
  {
   "cell_type": "code",
   "execution_count": 6,
   "id": "abaab20d",
   "metadata": {
    "ExecuteTime": {
     "end_time": "2024-10-23T04:26:48.166414Z",
     "start_time": "2024-10-23T04:26:48.126438Z"
    }
   },
   "outputs": [
    {
     "name": "stdout",
     "output_type": "stream",
     "text": [
      "\n",
      "Crash Data Info:\n",
      "<class 'pandas.core.frame.DataFrame'>\n",
      "RangeIndex: 2125763 entries, 0 to 2125762\n",
      "Data columns (total 29 columns):\n",
      " #   Column                         Dtype  \n",
      "---  ------                         -----  \n",
      " 0   CRASH DATE                     object \n",
      " 1   CRASH TIME                     object \n",
      " 2   BOROUGH                        object \n",
      " 3   ZIP CODE                       object \n",
      " 4   LATITUDE                       float64\n",
      " 5   LONGITUDE                      float64\n",
      " 6   LOCATION                       object \n",
      " 7   ON STREET NAME                 object \n",
      " 8   CROSS STREET NAME              object \n",
      " 9   OFF STREET NAME                object \n",
      " 10  NUMBER OF PERSONS INJURED      float64\n",
      " 11  NUMBER OF PERSONS KILLED       float64\n",
      " 12  NUMBER OF PEDESTRIANS INJURED  int64  \n",
      " 13  NUMBER OF PEDESTRIANS KILLED   int64  \n",
      " 14  NUMBER OF CYCLIST INJURED      int64  \n",
      " 15  NUMBER OF CYCLIST KILLED       int64  \n",
      " 16  NUMBER OF MOTORIST INJURED     int64  \n",
      " 17  NUMBER OF MOTORIST KILLED      int64  \n",
      " 18  CONTRIBUTING FACTOR VEHICLE 1  object \n",
      " 19  CONTRIBUTING FACTOR VEHICLE 2  object \n",
      " 20  CONTRIBUTING FACTOR VEHICLE 3  object \n",
      " 21  CONTRIBUTING FACTOR VEHICLE 4  object \n",
      " 22  CONTRIBUTING FACTOR VEHICLE 5  object \n",
      " 23  COLLISION_ID                   int64  \n",
      " 24  VEHICLE TYPE CODE 1            object \n",
      " 25  VEHICLE TYPE CODE 2            object \n",
      " 26  VEHICLE TYPE CODE 3            object \n",
      " 27  VEHICLE TYPE CODE 4            object \n",
      " 28  VEHICLE TYPE CODE 5            object \n",
      "dtypes: float64(4), int64(7), object(18)\n",
      "memory usage: 470.3+ MB\n"
     ]
    }
   ],
   "source": [
    "# display datatypes and range\n",
    "print(\"\\nCrash Data Info:\")\n",
    "crash_data.info()"
   ]
  },
  {
   "cell_type": "code",
   "outputs": [
    {
     "data": {
      "text/plain": "Index(['CRASH_DATE', 'CRASH_TIME', 'BOROUGH', 'ZIP_CODE', 'LATITUDE',\n       'LONGITUDE', 'LOCATION', 'ON_STREET_NAME', 'CROSS_STREET_NAME',\n       'OFF_STREET_NAME', 'NUMBER_OF_PERSONS_INJURED',\n       'NUMBER_OF_PERSONS_KILLED', 'NUMBER_OF_PEDESTRIANS_INJURED',\n       'NUMBER_OF_PEDESTRIANS_KILLED', 'NUMBER_OF_CYCLIST_INJURED',\n       'NUMBER_OF_CYCLIST_KILLED', 'NUMBER_OF_MOTORIST_INJURED',\n       'NUMBER_OF_MOTORIST_KILLED', 'CONTRIBUTING_FACTOR_VEHICLE_1',\n       'CONTRIBUTING_FACTOR_VEHICLE_2', 'CONTRIBUTING_FACTOR_VEHICLE_3',\n       'CONTRIBUTING_FACTOR_VEHICLE_4', 'CONTRIBUTING_FACTOR_VEHICLE_5',\n       'COLLISION_ID', 'VEHICLE_TYPE_CODE_1', 'VEHICLE_TYPE_CODE_2',\n       'VEHICLE_TYPE_CODE_3', 'VEHICLE_TYPE_CODE_4', 'VEHICLE_TYPE_CODE_5'],\n      dtype='object')"
     },
     "metadata": {},
     "output_type": "display_data"
    }
   ],
   "source": [
    "crash_data.columns = crash_data.columns.str.replace(\" \", \"_\")\n",
    "display(crash_data.columns)"
   ],
   "metadata": {
    "collapsed": false,
    "ExecuteTime": {
     "end_time": "2024-10-23T04:26:48.167825Z",
     "start_time": "2024-10-23T04:26:48.130164Z"
    }
   },
   "id": "7759d956e1fdd2f9",
   "execution_count": 7
  },
  {
   "cell_type": "markdown",
   "source": [
    "### Cleaning the Location related Columns"
   ],
   "metadata": {
    "collapsed": false
   },
   "id": "6339594946f4c008"
  },
  {
   "cell_type": "code",
   "outputs": [],
   "source": [
    "# Sub-setting the crash DataFrame for only the columns I need\n",
    "location_df = crash_data[['COLLISION_ID', 'CRASH_DATE', 'CRASH_TIME', 'LATITUDE',\n",
    "       'LONGITUDE', 'LOCATION', 'NUMBER_OF_PERSONS_INJURED',\n",
    "       'NUMBER_OF_PERSONS_KILLED', 'CONTRIBUTING_FACTOR_VEHICLE_1',\n",
    "       'CONTRIBUTING_FACTOR_VEHICLE_2']]"
   ],
   "metadata": {
    "collapsed": false,
    "ExecuteTime": {
     "end_time": "2024-10-23T04:26:48.280982Z",
     "start_time": "2024-10-23T04:26:48.133904Z"
    }
   },
   "id": "d07d3202a26e9aa1",
   "execution_count": 8
  },
  {
   "cell_type": "code",
   "outputs": [
    {
     "name": "stdout",
     "output_type": "stream",
     "text": [
      "<class 'pandas.core.frame.DataFrame'>\n",
      "RangeIndex: 2125763 entries, 0 to 2125762\n",
      "Data columns (total 10 columns):\n",
      " #   Column                         Dtype  \n",
      "---  ------                         -----  \n",
      " 0   COLLISION_ID                   int64  \n",
      " 1   CRASH_DATE                     object \n",
      " 2   CRASH_TIME                     object \n",
      " 3   LATITUDE                       float64\n",
      " 4   LONGITUDE                      float64\n",
      " 5   LOCATION                       object \n",
      " 6   NUMBER_OF_PERSONS_INJURED      float64\n",
      " 7   NUMBER_OF_PERSONS_KILLED       float64\n",
      " 8   CONTRIBUTING_FACTOR_VEHICLE_1  object \n",
      " 9   CONTRIBUTING_FACTOR_VEHICLE_2  object \n",
      "dtypes: float64(4), int64(1), object(5)\n",
      "memory usage: 162.2+ MB\n"
     ]
    },
    {
     "data": {
      "text/plain": "None"
     },
     "metadata": {},
     "output_type": "display_data"
    }
   ],
   "source": [
    "display(location_df.info())"
   ],
   "metadata": {
    "collapsed": false,
    "ExecuteTime": {
     "end_time": "2024-10-23T04:26:48.282691Z",
     "start_time": "2024-10-23T04:26:48.233090Z"
    }
   },
   "id": "1e4eb6fa9b3754ed",
   "execution_count": 9
  },
  {
   "cell_type": "code",
   "outputs": [
    {
     "name": "stdout",
     "output_type": "stream",
     "text": [
      "Missing values in Location Data:\n",
      "COLLISION_ID                          0\n",
      "CRASH_DATE                            0\n",
      "CRASH_TIME                            0\n",
      "LATITUDE                         252597\n",
      "LONGITUDE                        252597\n",
      "LOCATION                         252597\n",
      "NUMBER_OF_PERSONS_INJURED            18\n",
      "NUMBER_OF_PERSONS_KILLED             31\n",
      "CONTRIBUTING_FACTOR_VEHICLE_1      7144\n",
      "CONTRIBUTING_FACTOR_VEHICLE_2    333073\n",
      "dtype: int64\n"
     ]
    }
   ],
   "source": [
    "# Check for missing values \n",
    "print(\"Missing values in Location Data:\")\n",
    "print(location_df.isnull().sum())"
   ],
   "metadata": {
    "scrolled": true,
    "ExecuteTime": {
     "end_time": "2024-10-23T04:26:48.559473Z",
     "start_time": "2024-10-23T04:26:48.236664Z"
    }
   },
   "id": "471bfa2a",
   "execution_count": 10
  },
  {
   "cell_type": "code",
   "outputs": [
    {
     "name": "stderr",
     "output_type": "stream",
     "text": [
      "/var/folders/k0/7nbjk7js45l8wk701f59my980000gn/T/ipykernel_17192/2061959582.py:2: SettingWithCopyWarning: \n",
      "A value is trying to be set on a copy of a slice from a DataFrame\n",
      "\n",
      "See the caveats in the documentation: https://pandas.pydata.org/pandas-docs/stable/user_guide/indexing.html#returning-a-view-versus-a-copy\n",
      "  location_df.dropna(subset=['LOCATION'], how='all', inplace=True)\n"
     ]
    }
   ],
   "source": [
    "# Drop all the rows where location is missing\n",
    "location_df.dropna(subset=['LOCATION'], how='all', inplace=True)\n",
    "location_df = location_df.query(\"(40.5774 <= LATITUDE <= 45.01585) & (-74.2591 <= LONGITUDE <= -73.7004)\").copy()\n",
    "location_df.drop(columns='LOCATION', inplace=True)"
   ],
   "metadata": {
    "collapsed": false,
    "ExecuteTime": {
     "end_time": "2024-10-23T04:26:48.975805Z",
     "start_time": "2024-10-23T04:26:48.629602Z"
    }
   },
   "id": "b074fc69485dde11",
   "execution_count": 11
  },
  {
   "cell_type": "code",
   "outputs": [],
   "source": [
    "# Cleaning of Contributing Factors\n",
    "location_df = location_df[location_df[['CONTRIBUTING_FACTOR_VEHICLE_1', 'CONTRIBUTING_FACTOR_VEHICLE_2']].notnull().all(axis=1)].copy()\n",
    "\n",
    "location_df = location_df.query(\n",
    "\"(CONTRIBUTING_FACTOR_VEHICLE_1 != 'Unspecified' | CONTRIBUTING_FACTOR_VEHICLE_2 != 'Unspecified') & \"\n",
    "\"(CONTRIBUTING_FACTOR_VEHICLE_1 != '80' & CONTRIBUTING_FACTOR_VEHICLE_2 != '80') & (CONTRIBUTING_FACTOR_VEHICLE_1 != '1' & CONTRIBUTING_FACTOR_VEHICLE_2 != '1')\").copy()\n",
    "\n",
    "rename_dict ={\n",
    "    'Cell Phone (hand-held)': 'Cell Phone (Hand-Held)',\n",
    "    'Cell Phone (hand-Held)': 'Cell Phone (Hand-Held)',\n",
    "    'Cell Phone (hands-free)': 'Cell Phone (Hands-Free)',\n",
    "    'Drugs (illegal)': 'Drugs (Illegal)', \n",
    "    'Illnes': 'Illness'\n",
    "}\n",
    "location_df['CONTRIBUTING_FACTOR_VEHICLE_1'] = location_df['CONTRIBUTING_FACTOR_VEHICLE_1'].replace(rename_dict).copy()\n",
    "location_df['CONTRIBUTING_FACTOR_VEHICLE_2'] = location_df['CONTRIBUTING_FACTOR_VEHICLE_2'].replace(rename_dict).copy()"
   ],
   "metadata": {
    "collapsed": false,
    "ExecuteTime": {
     "end_time": "2024-10-23T04:26:49.810199Z",
     "start_time": "2024-10-23T04:26:48.973618Z"
    }
   },
   "id": "af17a9cbf289edd5",
   "execution_count": 12
  },
  {
   "cell_type": "code",
   "outputs": [
    {
     "name": "stdout",
     "output_type": "stream",
     "text": [
      "Location Data after cleaning:\n",
      "COLLISION_ID                     0\n",
      "CRASH_DATE                       0\n",
      "CRASH_TIME                       0\n",
      "LATITUDE                         0\n",
      "LONGITUDE                        0\n",
      "NUMBER_OF_PERSONS_INJURED        0\n",
      "NUMBER_OF_PERSONS_KILLED         0\n",
      "CONTRIBUTING_FACTOR_VEHICLE_1    0\n",
      "CONTRIBUTING_FACTOR_VEHICLE_2    0\n",
      "dtype: int64\n"
     ]
    }
   ],
   "source": [
    "# fill nulls with 'UNKNOWN' or 0 \n",
    "location_df.fillna({\n",
    "    \"NUMBER_OF_PERSONS_INJURED\":  0.0,\n",
    "    \"NUMBER_OF_PERSONS_KILLED\":  0.0,\n",
    "}, inplace=True)\n",
    "\n",
    "print(\"Location Data after cleaning:\")\n",
    "print(location_df.isnull().sum())"
   ],
   "metadata": {
    "scrolled": true,
    "ExecuteTime": {
     "end_time": "2024-10-23T04:26:50.023125Z",
     "start_time": "2024-10-23T04:26:49.808965Z"
    }
   },
   "id": "18d866b4",
   "execution_count": 13
  },
  {
   "cell_type": "code",
   "outputs": [],
   "source": [
    "import datetime as dt\n",
    "# Handle Types\n",
    "location_df['CRASH_DATE'] = pd.to_datetime(location_df['CRASH_DATE'])\n",
    "location_df['CRASH_TIME'] = pd.to_datetime(location_df['CRASH_TIME'], format='%H:%M').dt.time\n",
    "\n",
    "location_df = location_df.astype({\n",
    "        'NUMBER_OF_PERSONS_INJURED': 'int', \n",
    "        'NUMBER_OF_PERSONS_KILLED': 'int',\n",
    "        })"
   ],
   "metadata": {
    "collapsed": false,
    "ExecuteTime": {
     "end_time": "2024-10-23T04:26:50.380253Z",
     "start_time": "2024-10-23T04:26:50.022794Z"
    }
   },
   "id": "9c4841328c4ca6d2",
   "execution_count": 14
  },
  {
   "cell_type": "code",
   "outputs": [],
   "source": [
    "def create_accident_severity(row):\n",
    "    if row['NUMBER_OF_PERSONS_KILLED'] > 0:\n",
    "        return 'Fatal'\n",
    "    elif row['NUMBER_OF_PERSONS_INJURED'] >= 3:\n",
    "        return 'Major Injury'\n",
    "    elif row['NUMBER_OF_PERSONS_INJURED'] > 0:\n",
    "        return 'Minor Injury'\n",
    "    else:\n",
    "        return 'No Injury'"
   ],
   "metadata": {
    "collapsed": false,
    "ExecuteTime": {
     "end_time": "2024-10-23T04:26:50.389776Z",
     "start_time": "2024-10-23T04:26:50.381604Z"
    }
   },
   "id": "5aaa9e5d678411e4",
   "execution_count": 15
  },
  {
   "cell_type": "code",
   "outputs": [
    {
     "data": {
      "text/plain": "    COLLISION_ID CRASH_DATE CRASH_TIME   LATITUDE  LONGITUDE  \\\n6        4486555 2021-12-14   17:05:00  40.709183 -73.956825   \n8        4487074 2021-12-14   21:10:00  40.671720 -73.897100   \n9        4486519 2021-12-14   14:58:00  40.751440 -73.973970   \n10       4486934 2021-12-13   00:34:00  40.701275 -73.888870   \n11       4487127 2021-12-14   16:50:00  40.675884 -73.755770   \n\n    NUMBER_OF_PERSONS_INJURED  NUMBER_OF_PERSONS_KILLED  \\\n6                           0                         0   \n8                           0                         0   \n9                           0                         0   \n10                          0                         0   \n11                          0                         0   \n\n     CONTRIBUTING_FACTOR_VEHICLE_1 CONTRIBUTING_FACTOR_VEHICLE_2  \\\n6              Passing Too Closely                   Unspecified   \n8              Driver Inexperience                   Unspecified   \n9              Passing Too Closely                   Unspecified   \n10  Passing or Lane Usage Improper                   Unspecified   \n11              Turning Improperly                   Unspecified   \n\n   ACCIDENT_SEVERITY  \n6          No Injury  \n8          No Injury  \n9          No Injury  \n10         No Injury  \n11         No Injury  ",
      "text/html": "<div>\n<style scoped>\n    .dataframe tbody tr th:only-of-type {\n        vertical-align: middle;\n    }\n\n    .dataframe tbody tr th {\n        vertical-align: top;\n    }\n\n    .dataframe thead th {\n        text-align: right;\n    }\n</style>\n<table border=\"1\" class=\"dataframe\">\n  <thead>\n    <tr style=\"text-align: right;\">\n      <th></th>\n      <th>COLLISION_ID</th>\n      <th>CRASH_DATE</th>\n      <th>CRASH_TIME</th>\n      <th>LATITUDE</th>\n      <th>LONGITUDE</th>\n      <th>NUMBER_OF_PERSONS_INJURED</th>\n      <th>NUMBER_OF_PERSONS_KILLED</th>\n      <th>CONTRIBUTING_FACTOR_VEHICLE_1</th>\n      <th>CONTRIBUTING_FACTOR_VEHICLE_2</th>\n      <th>ACCIDENT_SEVERITY</th>\n    </tr>\n  </thead>\n  <tbody>\n    <tr>\n      <th>6</th>\n      <td>4486555</td>\n      <td>2021-12-14</td>\n      <td>17:05:00</td>\n      <td>40.709183</td>\n      <td>-73.956825</td>\n      <td>0</td>\n      <td>0</td>\n      <td>Passing Too Closely</td>\n      <td>Unspecified</td>\n      <td>No Injury</td>\n    </tr>\n    <tr>\n      <th>8</th>\n      <td>4487074</td>\n      <td>2021-12-14</td>\n      <td>21:10:00</td>\n      <td>40.671720</td>\n      <td>-73.897100</td>\n      <td>0</td>\n      <td>0</td>\n      <td>Driver Inexperience</td>\n      <td>Unspecified</td>\n      <td>No Injury</td>\n    </tr>\n    <tr>\n      <th>9</th>\n      <td>4486519</td>\n      <td>2021-12-14</td>\n      <td>14:58:00</td>\n      <td>40.751440</td>\n      <td>-73.973970</td>\n      <td>0</td>\n      <td>0</td>\n      <td>Passing Too Closely</td>\n      <td>Unspecified</td>\n      <td>No Injury</td>\n    </tr>\n    <tr>\n      <th>10</th>\n      <td>4486934</td>\n      <td>2021-12-13</td>\n      <td>00:34:00</td>\n      <td>40.701275</td>\n      <td>-73.888870</td>\n      <td>0</td>\n      <td>0</td>\n      <td>Passing or Lane Usage Improper</td>\n      <td>Unspecified</td>\n      <td>No Injury</td>\n    </tr>\n    <tr>\n      <th>11</th>\n      <td>4487127</td>\n      <td>2021-12-14</td>\n      <td>16:50:00</td>\n      <td>40.675884</td>\n      <td>-73.755770</td>\n      <td>0</td>\n      <td>0</td>\n      <td>Turning Improperly</td>\n      <td>Unspecified</td>\n      <td>No Injury</td>\n    </tr>\n  </tbody>\n</table>\n</div>"
     },
     "metadata": {},
     "output_type": "display_data"
    }
   ],
   "source": [
    "# Creating Encoding Data\n",
    "location_df['ACCIDENT_SEVERITY'] = location_df.apply(create_accident_severity, axis=1)\n",
    "display(location_df.head())"
   ],
   "metadata": {
    "collapsed": false,
    "ExecuteTime": {
     "end_time": "2024-10-23T04:26:56.149088Z",
     "start_time": "2024-10-23T04:26:50.385112Z"
    }
   },
   "id": "29e489e96d9807a9",
   "execution_count": 16
  },
  {
   "cell_type": "code",
   "outputs": [
    {
     "data": {
      "text/plain": "   COLLISION_ID CRASH_DATE CRASH_TIME   LATITUDE  LONGITUDE  \\\n0       4486555 2021-12-14   17:05:00  40.709183 -73.956825   \n1       4487074 2021-12-14   21:10:00  40.671720 -73.897100   \n2       4486519 2021-12-14   14:58:00  40.751440 -73.973970   \n3       4486934 2021-12-13   00:34:00  40.701275 -73.888870   \n4       4487127 2021-12-14   16:50:00  40.675884 -73.755770   \n\n   NUMBER_OF_PERSONS_INJURED  NUMBER_OF_PERSONS_KILLED  \\\n0                          0                         0   \n1                          0                         0   \n2                          0                         0   \n3                          0                         0   \n4                          0                         0   \n\n    CONTRIBUTING_FACTOR_VEHICLE_1 CONTRIBUTING_FACTOR_VEHICLE_2  \\\n0             Passing Too Closely                   Unspecified   \n1             Driver Inexperience                   Unspecified   \n2             Passing Too Closely                   Unspecified   \n3  Passing or Lane Usage Improper                   Unspecified   \n4              Turning Improperly                   Unspecified   \n\n  ACCIDENT_SEVERITY  \n0         No Injury  \n1         No Injury  \n2         No Injury  \n3         No Injury  \n4         No Injury  ",
      "text/html": "<div>\n<style scoped>\n    .dataframe tbody tr th:only-of-type {\n        vertical-align: middle;\n    }\n\n    .dataframe tbody tr th {\n        vertical-align: top;\n    }\n\n    .dataframe thead th {\n        text-align: right;\n    }\n</style>\n<table border=\"1\" class=\"dataframe\">\n  <thead>\n    <tr style=\"text-align: right;\">\n      <th></th>\n      <th>COLLISION_ID</th>\n      <th>CRASH_DATE</th>\n      <th>CRASH_TIME</th>\n      <th>LATITUDE</th>\n      <th>LONGITUDE</th>\n      <th>NUMBER_OF_PERSONS_INJURED</th>\n      <th>NUMBER_OF_PERSONS_KILLED</th>\n      <th>CONTRIBUTING_FACTOR_VEHICLE_1</th>\n      <th>CONTRIBUTING_FACTOR_VEHICLE_2</th>\n      <th>ACCIDENT_SEVERITY</th>\n    </tr>\n  </thead>\n  <tbody>\n    <tr>\n      <th>0</th>\n      <td>4486555</td>\n      <td>2021-12-14</td>\n      <td>17:05:00</td>\n      <td>40.709183</td>\n      <td>-73.956825</td>\n      <td>0</td>\n      <td>0</td>\n      <td>Passing Too Closely</td>\n      <td>Unspecified</td>\n      <td>No Injury</td>\n    </tr>\n    <tr>\n      <th>1</th>\n      <td>4487074</td>\n      <td>2021-12-14</td>\n      <td>21:10:00</td>\n      <td>40.671720</td>\n      <td>-73.897100</td>\n      <td>0</td>\n      <td>0</td>\n      <td>Driver Inexperience</td>\n      <td>Unspecified</td>\n      <td>No Injury</td>\n    </tr>\n    <tr>\n      <th>2</th>\n      <td>4486519</td>\n      <td>2021-12-14</td>\n      <td>14:58:00</td>\n      <td>40.751440</td>\n      <td>-73.973970</td>\n      <td>0</td>\n      <td>0</td>\n      <td>Passing Too Closely</td>\n      <td>Unspecified</td>\n      <td>No Injury</td>\n    </tr>\n    <tr>\n      <th>3</th>\n      <td>4486934</td>\n      <td>2021-12-13</td>\n      <td>00:34:00</td>\n      <td>40.701275</td>\n      <td>-73.888870</td>\n      <td>0</td>\n      <td>0</td>\n      <td>Passing or Lane Usage Improper</td>\n      <td>Unspecified</td>\n      <td>No Injury</td>\n    </tr>\n    <tr>\n      <th>4</th>\n      <td>4487127</td>\n      <td>2021-12-14</td>\n      <td>16:50:00</td>\n      <td>40.675884</td>\n      <td>-73.755770</td>\n      <td>0</td>\n      <td>0</td>\n      <td>Turning Improperly</td>\n      <td>Unspecified</td>\n      <td>No Injury</td>\n    </tr>\n  </tbody>\n</table>\n</div>"
     },
     "execution_count": 17,
     "metadata": {},
     "output_type": "execute_result"
    }
   ],
   "source": [
    "location_df.reset_index(drop=True, inplace=True)\n",
    "location_df.head()"
   ],
   "metadata": {
    "collapsed": false,
    "ExecuteTime": {
     "end_time": "2024-10-23T04:26:56.157861Z",
     "start_time": "2024-10-23T04:26:56.154992Z"
    }
   },
   "id": "d3a6344fb15572f5",
   "execution_count": 17
  },
  {
   "cell_type": "code",
   "outputs": [
    {
     "data": {
      "text/plain": "   COLLISION_ID CRASH_DATE CRASH_TIME   LATITUDE  LONGITUDE  \\\n0       4486555 2021-12-14   17:05:00  40.709183 -73.956825   \n1       4487074 2021-12-14   21:10:00  40.671720 -73.897100   \n2       4486519 2021-12-14   14:58:00  40.751440 -73.973970   \n3       4486934 2021-12-13   00:34:00  40.701275 -73.888870   \n4       4487127 2021-12-14   16:50:00  40.675884 -73.755770   \n\n   NUMBER_OF_PERSONS_INJURED  NUMBER_OF_PERSONS_KILLED  \\\n0                          0                         0   \n1                          0                         0   \n2                          0                         0   \n3                          0                         0   \n4                          0                         0   \n\n    CONTRIBUTING_FACTOR_VEHICLE_1 CONTRIBUTING_FACTOR_VEHICLE_2  \\\n0             Passing Too Closely                   Unspecified   \n1             Driver Inexperience                   Unspecified   \n2             Passing Too Closely                   Unspecified   \n3  Passing or Lane Usage Improper                   Unspecified   \n4              Turning Improperly                   Unspecified   \n\n  ACCIDENT_SEVERITY                    geometry  index_right  boro_code  \\\n0         No Injury  POINT (-73.95682 40.70918)            0        3.0   \n1         No Injury   POINT (-73.8971 40.67172)            0        3.0   \n2         No Injury  POINT (-73.97397 40.75144)            2        1.0   \n3         No Injury  POINT (-73.88887 40.70128)            4        4.0   \n4         No Injury  POINT (-73.75577 40.67588)            4        4.0   \n\n   boro_name    shape_area     shape_leng  \n0   Brooklyn  1.934143e+09  728147.130565  \n1   Brooklyn  1.934143e+09  728147.130565  \n2  Manhattan  6.366461e+08  360037.525777  \n3     Queens  3.041418e+09  888197.010944  \n4     Queens  3.041418e+09  888197.010944  ",
      "text/html": "<div>\n<style scoped>\n    .dataframe tbody tr th:only-of-type {\n        vertical-align: middle;\n    }\n\n    .dataframe tbody tr th {\n        vertical-align: top;\n    }\n\n    .dataframe thead th {\n        text-align: right;\n    }\n</style>\n<table border=\"1\" class=\"dataframe\">\n  <thead>\n    <tr style=\"text-align: right;\">\n      <th></th>\n      <th>COLLISION_ID</th>\n      <th>CRASH_DATE</th>\n      <th>CRASH_TIME</th>\n      <th>LATITUDE</th>\n      <th>LONGITUDE</th>\n      <th>NUMBER_OF_PERSONS_INJURED</th>\n      <th>NUMBER_OF_PERSONS_KILLED</th>\n      <th>CONTRIBUTING_FACTOR_VEHICLE_1</th>\n      <th>CONTRIBUTING_FACTOR_VEHICLE_2</th>\n      <th>ACCIDENT_SEVERITY</th>\n      <th>geometry</th>\n      <th>index_right</th>\n      <th>boro_code</th>\n      <th>boro_name</th>\n      <th>shape_area</th>\n      <th>shape_leng</th>\n    </tr>\n  </thead>\n  <tbody>\n    <tr>\n      <th>0</th>\n      <td>4486555</td>\n      <td>2021-12-14</td>\n      <td>17:05:00</td>\n      <td>40.709183</td>\n      <td>-73.956825</td>\n      <td>0</td>\n      <td>0</td>\n      <td>Passing Too Closely</td>\n      <td>Unspecified</td>\n      <td>No Injury</td>\n      <td>POINT (-73.95682 40.70918)</td>\n      <td>0</td>\n      <td>3.0</td>\n      <td>Brooklyn</td>\n      <td>1.934143e+09</td>\n      <td>728147.130565</td>\n    </tr>\n    <tr>\n      <th>1</th>\n      <td>4487074</td>\n      <td>2021-12-14</td>\n      <td>21:10:00</td>\n      <td>40.671720</td>\n      <td>-73.897100</td>\n      <td>0</td>\n      <td>0</td>\n      <td>Driver Inexperience</td>\n      <td>Unspecified</td>\n      <td>No Injury</td>\n      <td>POINT (-73.8971 40.67172)</td>\n      <td>0</td>\n      <td>3.0</td>\n      <td>Brooklyn</td>\n      <td>1.934143e+09</td>\n      <td>728147.130565</td>\n    </tr>\n    <tr>\n      <th>2</th>\n      <td>4486519</td>\n      <td>2021-12-14</td>\n      <td>14:58:00</td>\n      <td>40.751440</td>\n      <td>-73.973970</td>\n      <td>0</td>\n      <td>0</td>\n      <td>Passing Too Closely</td>\n      <td>Unspecified</td>\n      <td>No Injury</td>\n      <td>POINT (-73.97397 40.75144)</td>\n      <td>2</td>\n      <td>1.0</td>\n      <td>Manhattan</td>\n      <td>6.366461e+08</td>\n      <td>360037.525777</td>\n    </tr>\n    <tr>\n      <th>3</th>\n      <td>4486934</td>\n      <td>2021-12-13</td>\n      <td>00:34:00</td>\n      <td>40.701275</td>\n      <td>-73.888870</td>\n      <td>0</td>\n      <td>0</td>\n      <td>Passing or Lane Usage Improper</td>\n      <td>Unspecified</td>\n      <td>No Injury</td>\n      <td>POINT (-73.88887 40.70128)</td>\n      <td>4</td>\n      <td>4.0</td>\n      <td>Queens</td>\n      <td>3.041418e+09</td>\n      <td>888197.010944</td>\n    </tr>\n    <tr>\n      <th>4</th>\n      <td>4487127</td>\n      <td>2021-12-14</td>\n      <td>16:50:00</td>\n      <td>40.675884</td>\n      <td>-73.755770</td>\n      <td>0</td>\n      <td>0</td>\n      <td>Turning Improperly</td>\n      <td>Unspecified</td>\n      <td>No Injury</td>\n      <td>POINT (-73.75577 40.67588)</td>\n      <td>4</td>\n      <td>4.0</td>\n      <td>Queens</td>\n      <td>3.041418e+09</td>\n      <td>888197.010944</td>\n    </tr>\n  </tbody>\n</table>\n</div>"
     },
     "execution_count": 18,
     "metadata": {},
     "output_type": "execute_result"
    }
   ],
   "source": [
    "# Try to find the Borough for each location entry\n",
    "import geopandas as gpd\n",
    "from shapely.geometry import Point\n",
    "\n",
    "# Convert latitude and longitude to shapely Point objects\n",
    "location_df['geometry'] = location_df.apply(lambda row: Point(row['LONGITUDE'], row['LATITUDE']), axis=1)\n",
    "\n",
    "# Convert to a GeoDataFrame\n",
    "points_gdf = gpd.GeoDataFrame(location_df, geometry='geometry')\n",
    "\n",
    "# Ensure the GeoDataFrame has the correct CRS (WGS84 - EPSG:4326)\n",
    "points_gdf.set_crs(epsg=4326, inplace=True)\n",
    "\n",
    "# Load the shapefile of boroughs (assuming it contains a 'BOROUGH' column)\n",
    "shapefile_path = dir_path  / Path('Borough Boundaries/geo_borough.shp')\n",
    "boroughs_gdf = gpd.read_file(shapefile_path)\n",
    "\n",
    "if boroughs_gdf.crs is None:\n",
    "    boroughs_gdf.set_crs(epsg=2263, inplace=True)\n",
    "\n",
    "# Ensure the shapefile uses the same CRS as the points\n",
    "boroughs_gdf = boroughs_gdf.to_crs(epsg=4326)\n",
    "# Perform a spatial join to find which borough each point is in\n",
    "result_gdf = gpd.sjoin(points_gdf, boroughs_gdf, how='inner', predicate='within')\n",
    "\n",
    "result_gdf.head()"
   ],
   "metadata": {
    "collapsed": false,
    "ExecuteTime": {
     "end_time": "2024-10-23T04:27:07.823116Z",
     "start_time": "2024-10-23T04:26:56.159421Z"
    }
   },
   "id": "3d86cbcb50f3dfb6",
   "execution_count": 18
  },
  {
   "cell_type": "code",
   "outputs": [
    {
     "data": {
      "text/plain": "   COLLISION_ID CRASH_DATE CRASH_TIME   LATITUDE  LONGITUDE  \\\n0       4486555 2021-12-14   17:05:00  40.709183 -73.956825   \n1       4487074 2021-12-14   21:10:00  40.671720 -73.897100   \n2       4486519 2021-12-14   14:58:00  40.751440 -73.973970   \n3       4486934 2021-12-13   00:34:00  40.701275 -73.888870   \n4       4487127 2021-12-14   16:50:00  40.675884 -73.755770   \n\n   NUMBER_OF_PERSONS_INJURED  NUMBER_OF_PERSONS_KILLED  \\\n0                          0                         0   \n1                          0                         0   \n2                          0                         0   \n3                          0                         0   \n4                          0                         0   \n\n    CONTRIBUTING_FACTOR_VEHICLE_1 CONTRIBUTING_FACTOR_VEHICLE_2  \\\n0             Passing Too Closely                   Unspecified   \n1             Driver Inexperience                   Unspecified   \n2             Passing Too Closely                   Unspecified   \n3  Passing or Lane Usage Improper                   Unspecified   \n4              Turning Improperly                   Unspecified   \n\n  ACCIDENT_SEVERITY    BOROUGH  \n0         No Injury   Brooklyn  \n1         No Injury   Brooklyn  \n2         No Injury  Manhattan  \n3         No Injury     Queens  \n4         No Injury     Queens  ",
      "text/html": "<div>\n<style scoped>\n    .dataframe tbody tr th:only-of-type {\n        vertical-align: middle;\n    }\n\n    .dataframe tbody tr th {\n        vertical-align: top;\n    }\n\n    .dataframe thead th {\n        text-align: right;\n    }\n</style>\n<table border=\"1\" class=\"dataframe\">\n  <thead>\n    <tr style=\"text-align: right;\">\n      <th></th>\n      <th>COLLISION_ID</th>\n      <th>CRASH_DATE</th>\n      <th>CRASH_TIME</th>\n      <th>LATITUDE</th>\n      <th>LONGITUDE</th>\n      <th>NUMBER_OF_PERSONS_INJURED</th>\n      <th>NUMBER_OF_PERSONS_KILLED</th>\n      <th>CONTRIBUTING_FACTOR_VEHICLE_1</th>\n      <th>CONTRIBUTING_FACTOR_VEHICLE_2</th>\n      <th>ACCIDENT_SEVERITY</th>\n      <th>BOROUGH</th>\n    </tr>\n  </thead>\n  <tbody>\n    <tr>\n      <th>0</th>\n      <td>4486555</td>\n      <td>2021-12-14</td>\n      <td>17:05:00</td>\n      <td>40.709183</td>\n      <td>-73.956825</td>\n      <td>0</td>\n      <td>0</td>\n      <td>Passing Too Closely</td>\n      <td>Unspecified</td>\n      <td>No Injury</td>\n      <td>Brooklyn</td>\n    </tr>\n    <tr>\n      <th>1</th>\n      <td>4487074</td>\n      <td>2021-12-14</td>\n      <td>21:10:00</td>\n      <td>40.671720</td>\n      <td>-73.897100</td>\n      <td>0</td>\n      <td>0</td>\n      <td>Driver Inexperience</td>\n      <td>Unspecified</td>\n      <td>No Injury</td>\n      <td>Brooklyn</td>\n    </tr>\n    <tr>\n      <th>2</th>\n      <td>4486519</td>\n      <td>2021-12-14</td>\n      <td>14:58:00</td>\n      <td>40.751440</td>\n      <td>-73.973970</td>\n      <td>0</td>\n      <td>0</td>\n      <td>Passing Too Closely</td>\n      <td>Unspecified</td>\n      <td>No Injury</td>\n      <td>Manhattan</td>\n    </tr>\n    <tr>\n      <th>3</th>\n      <td>4486934</td>\n      <td>2021-12-13</td>\n      <td>00:34:00</td>\n      <td>40.701275</td>\n      <td>-73.888870</td>\n      <td>0</td>\n      <td>0</td>\n      <td>Passing or Lane Usage Improper</td>\n      <td>Unspecified</td>\n      <td>No Injury</td>\n      <td>Queens</td>\n    </tr>\n    <tr>\n      <th>4</th>\n      <td>4487127</td>\n      <td>2021-12-14</td>\n      <td>16:50:00</td>\n      <td>40.675884</td>\n      <td>-73.755770</td>\n      <td>0</td>\n      <td>0</td>\n      <td>Turning Improperly</td>\n      <td>Unspecified</td>\n      <td>No Injury</td>\n      <td>Queens</td>\n    </tr>\n  </tbody>\n</table>\n</div>"
     },
     "execution_count": 19,
     "metadata": {},
     "output_type": "execute_result"
    }
   ],
   "source": [
    "location_df = result_gdf.drop(columns=['boro_code', 'shape_area', 'shape_leng', 'geometry', 'index_right'])\n",
    "location_df.rename(columns={'boro_name': 'BOROUGH'}, inplace=True)\n",
    "location_df.head()"
   ],
   "metadata": {
    "collapsed": false,
    "ExecuteTime": {
     "end_time": "2024-10-23T04:27:07.974947Z",
     "start_time": "2024-10-23T04:27:07.823679Z"
    }
   },
   "id": "9179e49e1f9d3923",
   "execution_count": 19
  },
  {
   "cell_type": "code",
   "outputs": [],
   "source": [
    "location_df.to_csv(str(dir_path / Path('data_files/clean_data/location_data.csv')), index=False)"
   ],
   "metadata": {
    "collapsed": false,
    "ExecuteTime": {
     "end_time": "2024-10-23T04:27:12.508489Z",
     "start_time": "2024-10-23T04:27:07.976036Z"
    }
   },
   "id": "68a1d8bfeda394ec",
   "execution_count": 20
  },
  {
   "cell_type": "code",
   "outputs": [
    {
     "data": {
      "text/plain": "   UNIQUE_ID  COLLISION_ID  CRASH_DATE CRASH_TIME  \\\n0   10249006       4229554  10/26/2019       9:43   \n1   10255054       4230587  10/25/2019      15:15   \n2   10253177       4230550  10/26/2019      17:55   \n3    6650180       3565527  11/21/2016      13:05   \n4   10255516       4231168  10/25/2019      11:16   \n\n                              PERSON_ID PERSON_TYPE PERSON_INJURY  VEHICLE_ID  \\\n0  31aa2bc0-f545-444f-8cdb-f1cb5cf00b89    Occupant   Unspecified  19141108.0   \n1  4629e500-a73e-48dc-b8fb-53124d124b80    Occupant   Unspecified  19144075.0   \n2  ae48c136-1383-45db-83f4-2a5eecfb7cff    Occupant   Unspecified  19143133.0   \n3                               2782525    Occupant   Unspecified         NaN   \n4  e038e18f-40fb-4471-99cf-345eae36e064    Occupant   Unspecified  19144329.0   \n\n   PERSON_AGE     EJECTION  ...   BODILY_INJURY  \\\n0         NaN          NaN  ...             NaN   \n1        33.0  Not Ejected  ...  Does Not Apply   \n2        55.0          NaN  ...             NaN   \n3         NaN          NaN  ...             NaN   \n4         7.0  Not Ejected  ...  Does Not Apply   \n\n                                 POSITION_IN_VEHICLE    SAFETY_EQUIPMENT  \\\n0                                                NaN                 NaN   \n1  Front passenger, if two or more persons, inclu...  Lap Belt & Harness   \n2                                                NaN                 NaN   \n3                                                NaN                 NaN   \n4  Right rear passenger or motorcycle sidecar pas...            Lap Belt   \n\n  PED_LOCATION PED_ACTION       COMPLAINT         PED_ROLE  \\\n0          NaN        NaN             NaN       Registrant   \n1          NaN        NaN  Does Not Apply        Passenger   \n2          NaN        NaN             NaN       Registrant   \n3          NaN        NaN             NaN  Notified Person   \n4          NaN        NaN  Does Not Apply        Passenger   \n\n  CONTRIBUTING_FACTOR_1 CONTRIBUTING_FACTOR_2 PERSON_SEX  \n0                   NaN                   NaN          U  \n1                   NaN                   NaN          F  \n2                   NaN                   NaN          M  \n3                   NaN                   NaN        NaN  \n4                   NaN                   NaN          F  \n\n[5 rows x 21 columns]",
      "text/html": "<div>\n<style scoped>\n    .dataframe tbody tr th:only-of-type {\n        vertical-align: middle;\n    }\n\n    .dataframe tbody tr th {\n        vertical-align: top;\n    }\n\n    .dataframe thead th {\n        text-align: right;\n    }\n</style>\n<table border=\"1\" class=\"dataframe\">\n  <thead>\n    <tr style=\"text-align: right;\">\n      <th></th>\n      <th>UNIQUE_ID</th>\n      <th>COLLISION_ID</th>\n      <th>CRASH_DATE</th>\n      <th>CRASH_TIME</th>\n      <th>PERSON_ID</th>\n      <th>PERSON_TYPE</th>\n      <th>PERSON_INJURY</th>\n      <th>VEHICLE_ID</th>\n      <th>PERSON_AGE</th>\n      <th>EJECTION</th>\n      <th>...</th>\n      <th>BODILY_INJURY</th>\n      <th>POSITION_IN_VEHICLE</th>\n      <th>SAFETY_EQUIPMENT</th>\n      <th>PED_LOCATION</th>\n      <th>PED_ACTION</th>\n      <th>COMPLAINT</th>\n      <th>PED_ROLE</th>\n      <th>CONTRIBUTING_FACTOR_1</th>\n      <th>CONTRIBUTING_FACTOR_2</th>\n      <th>PERSON_SEX</th>\n    </tr>\n  </thead>\n  <tbody>\n    <tr>\n      <th>0</th>\n      <td>10249006</td>\n      <td>4229554</td>\n      <td>10/26/2019</td>\n      <td>9:43</td>\n      <td>31aa2bc0-f545-444f-8cdb-f1cb5cf00b89</td>\n      <td>Occupant</td>\n      <td>Unspecified</td>\n      <td>19141108.0</td>\n      <td>NaN</td>\n      <td>NaN</td>\n      <td>...</td>\n      <td>NaN</td>\n      <td>NaN</td>\n      <td>NaN</td>\n      <td>NaN</td>\n      <td>NaN</td>\n      <td>NaN</td>\n      <td>Registrant</td>\n      <td>NaN</td>\n      <td>NaN</td>\n      <td>U</td>\n    </tr>\n    <tr>\n      <th>1</th>\n      <td>10255054</td>\n      <td>4230587</td>\n      <td>10/25/2019</td>\n      <td>15:15</td>\n      <td>4629e500-a73e-48dc-b8fb-53124d124b80</td>\n      <td>Occupant</td>\n      <td>Unspecified</td>\n      <td>19144075.0</td>\n      <td>33.0</td>\n      <td>Not Ejected</td>\n      <td>...</td>\n      <td>Does Not Apply</td>\n      <td>Front passenger, if two or more persons, inclu...</td>\n      <td>Lap Belt &amp; Harness</td>\n      <td>NaN</td>\n      <td>NaN</td>\n      <td>Does Not Apply</td>\n      <td>Passenger</td>\n      <td>NaN</td>\n      <td>NaN</td>\n      <td>F</td>\n    </tr>\n    <tr>\n      <th>2</th>\n      <td>10253177</td>\n      <td>4230550</td>\n      <td>10/26/2019</td>\n      <td>17:55</td>\n      <td>ae48c136-1383-45db-83f4-2a5eecfb7cff</td>\n      <td>Occupant</td>\n      <td>Unspecified</td>\n      <td>19143133.0</td>\n      <td>55.0</td>\n      <td>NaN</td>\n      <td>...</td>\n      <td>NaN</td>\n      <td>NaN</td>\n      <td>NaN</td>\n      <td>NaN</td>\n      <td>NaN</td>\n      <td>NaN</td>\n      <td>Registrant</td>\n      <td>NaN</td>\n      <td>NaN</td>\n      <td>M</td>\n    </tr>\n    <tr>\n      <th>3</th>\n      <td>6650180</td>\n      <td>3565527</td>\n      <td>11/21/2016</td>\n      <td>13:05</td>\n      <td>2782525</td>\n      <td>Occupant</td>\n      <td>Unspecified</td>\n      <td>NaN</td>\n      <td>NaN</td>\n      <td>NaN</td>\n      <td>...</td>\n      <td>NaN</td>\n      <td>NaN</td>\n      <td>NaN</td>\n      <td>NaN</td>\n      <td>NaN</td>\n      <td>NaN</td>\n      <td>Notified Person</td>\n      <td>NaN</td>\n      <td>NaN</td>\n      <td>NaN</td>\n    </tr>\n    <tr>\n      <th>4</th>\n      <td>10255516</td>\n      <td>4231168</td>\n      <td>10/25/2019</td>\n      <td>11:16</td>\n      <td>e038e18f-40fb-4471-99cf-345eae36e064</td>\n      <td>Occupant</td>\n      <td>Unspecified</td>\n      <td>19144329.0</td>\n      <td>7.0</td>\n      <td>Not Ejected</td>\n      <td>...</td>\n      <td>Does Not Apply</td>\n      <td>Right rear passenger or motorcycle sidecar pas...</td>\n      <td>Lap Belt</td>\n      <td>NaN</td>\n      <td>NaN</td>\n      <td>Does Not Apply</td>\n      <td>Passenger</td>\n      <td>NaN</td>\n      <td>NaN</td>\n      <td>F</td>\n    </tr>\n  </tbody>\n</table>\n<p>5 rows × 21 columns</p>\n</div>"
     },
     "execution_count": 21,
     "metadata": {},
     "output_type": "execute_result"
    }
   ],
   "source": [
    "person_data.head()"
   ],
   "metadata": {
    "scrolled": false,
    "ExecuteTime": {
     "end_time": "2024-10-23T04:27:12.521270Z",
     "start_time": "2024-10-23T04:27:12.509831Z"
    }
   },
   "id": "28cd9dba",
   "execution_count": 21
  },
  {
   "cell_type": "code",
   "outputs": [
    {
     "name": "stdout",
     "output_type": "stream",
     "text": [
      "<class 'pandas.core.frame.DataFrame'>\n",
      "RangeIndex: 5495040 entries, 0 to 5495039\n",
      "Data columns (total 21 columns):\n",
      " #   Column                 Dtype  \n",
      "---  ------                 -----  \n",
      " 0   UNIQUE_ID              int64  \n",
      " 1   COLLISION_ID           int64  \n",
      " 2   CRASH_DATE             object \n",
      " 3   CRASH_TIME             object \n",
      " 4   PERSON_ID              object \n",
      " 5   PERSON_TYPE            object \n",
      " 6   PERSON_INJURY          object \n",
      " 7   VEHICLE_ID             float64\n",
      " 8   PERSON_AGE             float64\n",
      " 9   EJECTION               object \n",
      " 10  EMOTIONAL_STATUS       object \n",
      " 11  BODILY_INJURY          object \n",
      " 12  POSITION_IN_VEHICLE    object \n",
      " 13  SAFETY_EQUIPMENT       object \n",
      " 14  PED_LOCATION           object \n",
      " 15  PED_ACTION             object \n",
      " 16  COMPLAINT              object \n",
      " 17  PED_ROLE               object \n",
      " 18  CONTRIBUTING_FACTOR_1  object \n",
      " 19  CONTRIBUTING_FACTOR_2  object \n",
      " 20  PERSON_SEX             object \n",
      "dtypes: float64(2), int64(2), object(17)\n",
      "memory usage: 880.4+ MB\n"
     ]
    }
   ],
   "source": [
    "# Gather info about People involved in accident\n",
    "person_data.info()"
   ],
   "metadata": {
    "collapsed": false,
    "ExecuteTime": {
     "end_time": "2024-10-23T04:27:12.523587Z",
     "start_time": "2024-10-23T04:27:12.520552Z"
    }
   },
   "id": "a2bbe57f2d7f9acf",
   "execution_count": 22
  },
  {
   "cell_type": "code",
   "outputs": [
    {
     "data": {
      "text/plain": "UNIQUE_ID                      0\nCOLLISION_ID                   0\nCRASH_DATE                     0\nCRASH_TIME                     0\nPERSON_ID                     19\nPERSON_TYPE                    0\nPERSON_INJURY                  0\nVEHICLE_ID                224115\nPERSON_AGE                597119\nEJECTION                 2673321\nEMOTIONAL_STATUS         2587450\nBODILY_INJURY            2587407\nPOSITION_IN_VEHICLE      2672929\nSAFETY_EQUIPMENT         2855212\nPED_LOCATION             5404189\nPED_ACTION               5404290\nCOMPLAINT                2587400\nPED_ROLE                  194889\nCONTRIBUTING_FACTOR_1    5405540\nCONTRIBUTING_FACTOR_2    5405657\nPERSON_SEX                613524\ndtype: int64"
     },
     "execution_count": 23,
     "metadata": {},
     "output_type": "execute_result"
    }
   ],
   "source": [
    "# Identify which columns are null\n",
    "person_data.isnull().sum()"
   ],
   "metadata": {
    "collapsed": false,
    "ExecuteTime": {
     "end_time": "2024-10-23T04:27:15.040407Z",
     "start_time": "2024-10-23T04:27:12.523221Z"
    }
   },
   "id": "8cfd7d98771ab9c8",
   "execution_count": 23
  },
  {
   "cell_type": "code",
   "outputs": [
    {
     "data": {
      "text/plain": "   COLLISION_ID  PERSON_AGE PERSON_TYPE PERSON_SEX   BODILY_INJURY  \\\n0       4229554         NaN    Occupant          U             NaN   \n1       4230587        33.0    Occupant          F  Does Not Apply   \n2       4230550        55.0    Occupant          M             NaN   \n3       3565527         NaN    Occupant        NaN             NaN   \n4       4231168         7.0    Occupant          F  Does Not Apply   \n\n      EJECTION  \n0          NaN  \n1  Not Ejected  \n2          NaN  \n3          NaN  \n4  Not Ejected  ",
      "text/html": "<div>\n<style scoped>\n    .dataframe tbody tr th:only-of-type {\n        vertical-align: middle;\n    }\n\n    .dataframe tbody tr th {\n        vertical-align: top;\n    }\n\n    .dataframe thead th {\n        text-align: right;\n    }\n</style>\n<table border=\"1\" class=\"dataframe\">\n  <thead>\n    <tr style=\"text-align: right;\">\n      <th></th>\n      <th>COLLISION_ID</th>\n      <th>PERSON_AGE</th>\n      <th>PERSON_TYPE</th>\n      <th>PERSON_SEX</th>\n      <th>BODILY_INJURY</th>\n      <th>EJECTION</th>\n    </tr>\n  </thead>\n  <tbody>\n    <tr>\n      <th>0</th>\n      <td>4229554</td>\n      <td>NaN</td>\n      <td>Occupant</td>\n      <td>U</td>\n      <td>NaN</td>\n      <td>NaN</td>\n    </tr>\n    <tr>\n      <th>1</th>\n      <td>4230587</td>\n      <td>33.0</td>\n      <td>Occupant</td>\n      <td>F</td>\n      <td>Does Not Apply</td>\n      <td>Not Ejected</td>\n    </tr>\n    <tr>\n      <th>2</th>\n      <td>4230550</td>\n      <td>55.0</td>\n      <td>Occupant</td>\n      <td>M</td>\n      <td>NaN</td>\n      <td>NaN</td>\n    </tr>\n    <tr>\n      <th>3</th>\n      <td>3565527</td>\n      <td>NaN</td>\n      <td>Occupant</td>\n      <td>NaN</td>\n      <td>NaN</td>\n      <td>NaN</td>\n    </tr>\n    <tr>\n      <th>4</th>\n      <td>4231168</td>\n      <td>7.0</td>\n      <td>Occupant</td>\n      <td>F</td>\n      <td>Does Not Apply</td>\n      <td>Not Ejected</td>\n    </tr>\n  </tbody>\n</table>\n</div>"
     },
     "execution_count": 24,
     "metadata": {},
     "output_type": "execute_result"
    }
   ],
   "source": [
    "# Subsetting Data to focus on relevant columns\n",
    "\n",
    "person_detail_df = person_data[['COLLISION_ID', 'PERSON_AGE', 'PERSON_TYPE', 'PERSON_SEX', 'BODILY_INJURY', 'EJECTION']]\n",
    "\n",
    "person_detail_df.head()"
   ],
   "metadata": {
    "collapsed": false,
    "ExecuteTime": {
     "end_time": "2024-10-23T04:27:15.249244Z",
     "start_time": "2024-10-23T04:27:15.042257Z"
    }
   },
   "id": "d378d6dcb285a113",
   "execution_count": 24
  },
  {
   "cell_type": "code",
   "outputs": [
    {
     "data": {
      "text/plain": "   COLLISION_ID  PERSON_AGE PERSON_TYPE PERSON_SEX   BODILY_INJURY  \\\n0       4229554        37.0    Occupant          U             NaN   \n1       4230587        33.0    Occupant          F  Does Not Apply   \n2       4230550        55.0    Occupant          M             NaN   \n3       3565527        37.0    Occupant        NaN             NaN   \n4       4231168         7.0    Occupant          F  Does Not Apply   \n\n      EJECTION  \n0          NaN  \n1  Not Ejected  \n2          NaN  \n3          NaN  \n4  Not Ejected  ",
      "text/html": "<div>\n<style scoped>\n    .dataframe tbody tr th:only-of-type {\n        vertical-align: middle;\n    }\n\n    .dataframe tbody tr th {\n        vertical-align: top;\n    }\n\n    .dataframe thead th {\n        text-align: right;\n    }\n</style>\n<table border=\"1\" class=\"dataframe\">\n  <thead>\n    <tr style=\"text-align: right;\">\n      <th></th>\n      <th>COLLISION_ID</th>\n      <th>PERSON_AGE</th>\n      <th>PERSON_TYPE</th>\n      <th>PERSON_SEX</th>\n      <th>BODILY_INJURY</th>\n      <th>EJECTION</th>\n    </tr>\n  </thead>\n  <tbody>\n    <tr>\n      <th>0</th>\n      <td>4229554</td>\n      <td>37.0</td>\n      <td>Occupant</td>\n      <td>U</td>\n      <td>NaN</td>\n      <td>NaN</td>\n    </tr>\n    <tr>\n      <th>1</th>\n      <td>4230587</td>\n      <td>33.0</td>\n      <td>Occupant</td>\n      <td>F</td>\n      <td>Does Not Apply</td>\n      <td>Not Ejected</td>\n    </tr>\n    <tr>\n      <th>2</th>\n      <td>4230550</td>\n      <td>55.0</td>\n      <td>Occupant</td>\n      <td>M</td>\n      <td>NaN</td>\n      <td>NaN</td>\n    </tr>\n    <tr>\n      <th>3</th>\n      <td>3565527</td>\n      <td>37.0</td>\n      <td>Occupant</td>\n      <td>NaN</td>\n      <td>NaN</td>\n      <td>NaN</td>\n    </tr>\n    <tr>\n      <th>4</th>\n      <td>4231168</td>\n      <td>7.0</td>\n      <td>Occupant</td>\n      <td>F</td>\n      <td>Does Not Apply</td>\n      <td>Not Ejected</td>\n    </tr>\n  </tbody>\n</table>\n</div>"
     },
     "execution_count": 25,
     "metadata": {},
     "output_type": "execute_result"
    }
   ],
   "source": [
    "avg_age = person_detail_df['PERSON_AGE'].mean(skipna=True).round(decimals=0)\n",
    "\n",
    "person_detail_df.loc[:, 'PERSON_AGE'] = person_detail_df['PERSON_AGE'].fillna(avg_age).copy()\n",
    "\n",
    "person_detail_df.head()"
   ],
   "metadata": {
    "collapsed": false,
    "ExecuteTime": {
     "end_time": "2024-10-23T04:27:15.359867Z",
     "start_time": "2024-10-23T04:27:15.250832Z"
    }
   },
   "id": "b914d41fc1c5c090",
   "execution_count": 25
  },
  {
   "cell_type": "code",
   "outputs": [
    {
     "name": "stdout",
     "output_type": "stream",
     "text": [
      "Before the conversion: \n",
      "<class 'pandas.core.frame.DataFrame'>\n",
      "RangeIndex: 5495040 entries, 0 to 5495039\n",
      "Data columns (total 6 columns):\n",
      " #   Column         Dtype  \n",
      "---  ------         -----  \n",
      " 0   COLLISION_ID   int64  \n",
      " 1   PERSON_AGE     float64\n",
      " 2   PERSON_TYPE    object \n",
      " 3   PERSON_SEX     object \n",
      " 4   BODILY_INJURY  object \n",
      " 5   EJECTION       object \n",
      "dtypes: float64(1), int64(1), object(4)\n",
      "memory usage: 251.5+ MB\n"
     ]
    },
    {
     "data": {
      "text/plain": "None"
     },
     "metadata": {},
     "output_type": "display_data"
    },
    {
     "name": "stdout",
     "output_type": "stream",
     "text": [
      "After the conversion: \n",
      "<class 'pandas.core.frame.DataFrame'>\n",
      "RangeIndex: 5495040 entries, 0 to 5495039\n",
      "Data columns (total 6 columns):\n",
      " #   Column         Dtype \n",
      "---  ------         ----- \n",
      " 0   COLLISION_ID   int64 \n",
      " 1   PERSON_AGE     int64 \n",
      " 2   PERSON_TYPE    object\n",
      " 3   PERSON_SEX     object\n",
      " 4   BODILY_INJURY  object\n",
      " 5   EJECTION       object\n",
      "dtypes: int64(2), object(4)\n",
      "memory usage: 251.5+ MB\n"
     ]
    },
    {
     "name": "stderr",
     "output_type": "stream",
     "text": [
      "/var/folders/k0/7nbjk7js45l8wk701f59my980000gn/T/ipykernel_17192/2164663595.py:5: SettingWithCopyWarning: \n",
      "A value is trying to be set on a copy of a slice from a DataFrame.\n",
      "Try using .loc[row_indexer,col_indexer] = value instead\n",
      "\n",
      "See the caveats in the documentation: https://pandas.pydata.org/pandas-docs/stable/user_guide/indexing.html#returning-a-view-versus-a-copy\n",
      "  person_detail_df['PERSON_AGE'] = person_detail_df['PERSON_AGE'].astype(int)\n"
     ]
    },
    {
     "data": {
      "text/plain": "None"
     },
     "metadata": {},
     "output_type": "display_data"
    },
    {
     "data": {
      "text/plain": "   COLLISION_ID  PERSON_AGE PERSON_TYPE PERSON_SEX   BODILY_INJURY  \\\n0       4229554          37    Occupant          U             NaN   \n1       4230587          33    Occupant          F  Does Not Apply   \n2       4230550          55    Occupant          M             NaN   \n3       3565527          37    Occupant        NaN             NaN   \n4       4231168           7    Occupant          F  Does Not Apply   \n\n      EJECTION  \n0          NaN  \n1  Not Ejected  \n2          NaN  \n3          NaN  \n4  Not Ejected  ",
      "text/html": "<div>\n<style scoped>\n    .dataframe tbody tr th:only-of-type {\n        vertical-align: middle;\n    }\n\n    .dataframe tbody tr th {\n        vertical-align: top;\n    }\n\n    .dataframe thead th {\n        text-align: right;\n    }\n</style>\n<table border=\"1\" class=\"dataframe\">\n  <thead>\n    <tr style=\"text-align: right;\">\n      <th></th>\n      <th>COLLISION_ID</th>\n      <th>PERSON_AGE</th>\n      <th>PERSON_TYPE</th>\n      <th>PERSON_SEX</th>\n      <th>BODILY_INJURY</th>\n      <th>EJECTION</th>\n    </tr>\n  </thead>\n  <tbody>\n    <tr>\n      <th>0</th>\n      <td>4229554</td>\n      <td>37</td>\n      <td>Occupant</td>\n      <td>U</td>\n      <td>NaN</td>\n      <td>NaN</td>\n    </tr>\n    <tr>\n      <th>1</th>\n      <td>4230587</td>\n      <td>33</td>\n      <td>Occupant</td>\n      <td>F</td>\n      <td>Does Not Apply</td>\n      <td>Not Ejected</td>\n    </tr>\n    <tr>\n      <th>2</th>\n      <td>4230550</td>\n      <td>55</td>\n      <td>Occupant</td>\n      <td>M</td>\n      <td>NaN</td>\n      <td>NaN</td>\n    </tr>\n    <tr>\n      <th>3</th>\n      <td>3565527</td>\n      <td>37</td>\n      <td>Occupant</td>\n      <td>NaN</td>\n      <td>NaN</td>\n      <td>NaN</td>\n    </tr>\n    <tr>\n      <th>4</th>\n      <td>4231168</td>\n      <td>7</td>\n      <td>Occupant</td>\n      <td>F</td>\n      <td>Does Not Apply</td>\n      <td>Not Ejected</td>\n    </tr>\n  </tbody>\n</table>\n</div>"
     },
     "execution_count": 26,
     "metadata": {},
     "output_type": "execute_result"
    }
   ],
   "source": [
    "# Correct the Data Types\n",
    "print('Before the conversion: ')\n",
    "display(person_detail_df.info())\n",
    "\n",
    "person_detail_df['PERSON_AGE'] = person_detail_df['PERSON_AGE'].astype(int)\n",
    "\n",
    "print('After the conversion: ')\n",
    "display(person_detail_df.info())\n",
    "\n",
    "person_detail_df.head()"
   ],
   "metadata": {
    "collapsed": false,
    "ExecuteTime": {
     "end_time": "2024-10-23T04:27:15.398181Z",
     "start_time": "2024-10-23T04:27:15.319434Z"
    }
   },
   "id": "75b5c31c4db667cf",
   "execution_count": 26
  },
  {
   "cell_type": "code",
   "outputs": [
    {
     "name": "stderr",
     "output_type": "stream",
     "text": [
      "/var/folders/k0/7nbjk7js45l8wk701f59my980000gn/T/ipykernel_17192/1794288905.py:2: SettingWithCopyWarning: \n",
      "A value is trying to be set on a copy of a slice from a DataFrame.\n",
      "Try using .loc[row_indexer,col_indexer] = value instead\n",
      "\n",
      "See the caveats in the documentation: https://pandas.pydata.org/pandas-docs/stable/user_guide/indexing.html#returning-a-view-versus-a-copy\n",
      "  person_detail_df['PERSON_SEX'] = person_detail_df['PERSON_SEX'].replace({\n",
      "/var/folders/k0/7nbjk7js45l8wk701f59my980000gn/T/ipykernel_17192/1794288905.py:7: FutureWarning: A value is trying to be set on a copy of a DataFrame or Series through chained assignment using an inplace method.\n",
      "The behavior will change in pandas 3.0. This inplace method will never work because the intermediate object on which we are setting values always behaves as a copy.\n",
      "\n",
      "For example, when doing 'df[col].method(value, inplace=True)', try using 'df.method({col: value}, inplace=True)' or df[col] = df[col].method(value) instead, to perform the operation inplace on the original object.\n",
      "\n",
      "\n",
      "  person_detail_df['PERSON_SEX'].fillna('UNKNOWN', inplace=True)\n",
      "/var/folders/k0/7nbjk7js45l8wk701f59my980000gn/T/ipykernel_17192/1794288905.py:7: SettingWithCopyWarning: \n",
      "A value is trying to be set on a copy of a slice from a DataFrame\n",
      "\n",
      "See the caveats in the documentation: https://pandas.pydata.org/pandas-docs/stable/user_guide/indexing.html#returning-a-view-versus-a-copy\n",
      "  person_detail_df['PERSON_SEX'].fillna('UNKNOWN', inplace=True)\n"
     ]
    },
    {
     "data": {
      "text/plain": "PERSON_SEX\nMale       2962241\nFemale     1486701\nUNKNOWN     613524\nUnknown     432574\nName: count, dtype: int64"
     },
     "metadata": {},
     "output_type": "display_data"
    }
   ],
   "source": [
    "# Change the Person Sex Column\n",
    "person_detail_df['PERSON_SEX'] = person_detail_df['PERSON_SEX'].replace({\n",
    "    'M': 'Male',\n",
    "    'F': 'Female',\n",
    "    'U': 'Unknown'\n",
    "})\n",
    "person_detail_df['PERSON_SEX'].fillna('UNKNOWN', inplace=True)\n",
    "display(person_detail_df['PERSON_SEX'].value_counts())"
   ],
   "metadata": {
    "collapsed": false,
    "ExecuteTime": {
     "end_time": "2024-10-23T04:27:16.538729Z",
     "start_time": "2024-10-23T04:27:15.479084Z"
    }
   },
   "id": "7f84627e3396cb56",
   "execution_count": 27
  },
  {
   "cell_type": "code",
   "outputs": [
    {
     "data": {
      "text/plain": "BODILY_INJURY\nDoes Not Apply          2425278\nBack                      80437\nNeck                      77278\nKnee-Lower Leg Foot       74045\nHead                      66825\nEntire Body               39435\nElbow-Lower-Arm-Hand      33220\nShoulder - Upper Arm      33130\nChest                     17564\nHip-Upper Leg             17066\nFace                      12956\nAbdomen - Pelvis           8477\nEye                         916\nName: count, dtype: int64"
     },
     "execution_count": 28,
     "metadata": {},
     "output_type": "execute_result"
    }
   ],
   "source": [
    "# Drop the columns where the bodily injury is not described\n",
    "person_detail_df = person_detail_df.query(\"BODILY_INJURY != 'Unknown'\")\n",
    "person_detail_df['BODILY_INJURY'].value_counts()"
   ],
   "metadata": {
    "collapsed": false,
    "ExecuteTime": {
     "end_time": "2024-10-23T04:27:17.081927Z",
     "start_time": "2024-10-23T04:27:16.539419Z"
    }
   },
   "id": "f20ca0ead5bc6475",
   "execution_count": 28
  },
  {
   "cell_type": "code",
   "outputs": [
    {
     "name": "stdout",
     "output_type": "stream",
     "text": [
      "(1079129, 11)\n",
      "(5474034, 6)\n",
      "(3480384, 16)\n"
     ]
    },
    {
     "data": {
      "text/plain": "   COLLISION_ID CRASH_DATE CRASH_TIME   LATITUDE  LONGITUDE  \\\n0       4486555 2021-12-14   17:05:00  40.709183 -73.956825   \n1       4486555 2021-12-14   17:05:00  40.709183 -73.956825   \n2       4486519 2021-12-14   14:58:00  40.751440 -73.973970   \n3       4486519 2021-12-14   14:58:00  40.751440 -73.973970   \n4       4486519 2021-12-14   14:58:00  40.751440 -73.973970   \n5       4486519 2021-12-14   14:58:00  40.751440 -73.973970   \n6       4486934 2021-12-13   00:34:00  40.701275 -73.888870   \n7       4486934 2021-12-13   00:34:00  40.701275 -73.888870   \n8       4486934 2021-12-13   00:34:00  40.701275 -73.888870   \n9       4486934 2021-12-13   00:34:00  40.701275 -73.888870   \n\n   NUMBER_OF_PERSONS_INJURED  NUMBER_OF_PERSONS_KILLED  \\\n0                          0                         0   \n1                          0                         0   \n2                          0                         0   \n3                          0                         0   \n4                          0                         0   \n5                          0                         0   \n6                          0                         0   \n7                          0                         0   \n8                          0                         0   \n9                          0                         0   \n\n    CONTRIBUTING_FACTOR_VEHICLE_1 CONTRIBUTING_FACTOR_VEHICLE_2  \\\n0             Passing Too Closely                   Unspecified   \n1             Passing Too Closely                   Unspecified   \n2             Passing Too Closely                   Unspecified   \n3             Passing Too Closely                   Unspecified   \n4             Passing Too Closely                   Unspecified   \n5             Passing Too Closely                   Unspecified   \n6  Passing or Lane Usage Improper                   Unspecified   \n7  Passing or Lane Usage Improper                   Unspecified   \n8  Passing or Lane Usage Improper                   Unspecified   \n9  Passing or Lane Usage Improper                   Unspecified   \n\n  ACCIDENT_SEVERITY    BOROUGH  PERSON_AGE PERSON_TYPE PERSON_SEX  \\\n0         No Injury   Brooklyn          37    Occupant       Male   \n1         No Injury   Brooklyn          32    Occupant     Female   \n2         No Injury  Manhattan          37    Occupant    Unknown   \n3         No Injury  Manhattan          37    Occupant       Male   \n4         No Injury  Manhattan          22    Occupant       Male   \n5         No Injury  Manhattan          37    Occupant    Unknown   \n6         No Injury     Queens          30    Occupant       Male   \n7         No Injury     Queens          29    Occupant     Female   \n8         No Injury     Queens          34    Occupant       Male   \n9         No Injury     Queens          34    Occupant       Male   \n\n    BODILY_INJURY     EJECTION  \n0             NaN          NaN  \n1  Does Not Apply  Not Ejected  \n2             NaN          NaN  \n3  Does Not Apply  Not Ejected  \n4  Does Not Apply  Not Ejected  \n5             NaN          NaN  \n6  Does Not Apply  Not Ejected  \n7  Does Not Apply  Not Ejected  \n8             NaN          NaN  \n9  Does Not Apply  Not Ejected  ",
      "text/html": "<div>\n<style scoped>\n    .dataframe tbody tr th:only-of-type {\n        vertical-align: middle;\n    }\n\n    .dataframe tbody tr th {\n        vertical-align: top;\n    }\n\n    .dataframe thead th {\n        text-align: right;\n    }\n</style>\n<table border=\"1\" class=\"dataframe\">\n  <thead>\n    <tr style=\"text-align: right;\">\n      <th></th>\n      <th>COLLISION_ID</th>\n      <th>CRASH_DATE</th>\n      <th>CRASH_TIME</th>\n      <th>LATITUDE</th>\n      <th>LONGITUDE</th>\n      <th>NUMBER_OF_PERSONS_INJURED</th>\n      <th>NUMBER_OF_PERSONS_KILLED</th>\n      <th>CONTRIBUTING_FACTOR_VEHICLE_1</th>\n      <th>CONTRIBUTING_FACTOR_VEHICLE_2</th>\n      <th>ACCIDENT_SEVERITY</th>\n      <th>BOROUGH</th>\n      <th>PERSON_AGE</th>\n      <th>PERSON_TYPE</th>\n      <th>PERSON_SEX</th>\n      <th>BODILY_INJURY</th>\n      <th>EJECTION</th>\n    </tr>\n  </thead>\n  <tbody>\n    <tr>\n      <th>0</th>\n      <td>4486555</td>\n      <td>2021-12-14</td>\n      <td>17:05:00</td>\n      <td>40.709183</td>\n      <td>-73.956825</td>\n      <td>0</td>\n      <td>0</td>\n      <td>Passing Too Closely</td>\n      <td>Unspecified</td>\n      <td>No Injury</td>\n      <td>Brooklyn</td>\n      <td>37</td>\n      <td>Occupant</td>\n      <td>Male</td>\n      <td>NaN</td>\n      <td>NaN</td>\n    </tr>\n    <tr>\n      <th>1</th>\n      <td>4486555</td>\n      <td>2021-12-14</td>\n      <td>17:05:00</td>\n      <td>40.709183</td>\n      <td>-73.956825</td>\n      <td>0</td>\n      <td>0</td>\n      <td>Passing Too Closely</td>\n      <td>Unspecified</td>\n      <td>No Injury</td>\n      <td>Brooklyn</td>\n      <td>32</td>\n      <td>Occupant</td>\n      <td>Female</td>\n      <td>Does Not Apply</td>\n      <td>Not Ejected</td>\n    </tr>\n    <tr>\n      <th>2</th>\n      <td>4486519</td>\n      <td>2021-12-14</td>\n      <td>14:58:00</td>\n      <td>40.751440</td>\n      <td>-73.973970</td>\n      <td>0</td>\n      <td>0</td>\n      <td>Passing Too Closely</td>\n      <td>Unspecified</td>\n      <td>No Injury</td>\n      <td>Manhattan</td>\n      <td>37</td>\n      <td>Occupant</td>\n      <td>Unknown</td>\n      <td>NaN</td>\n      <td>NaN</td>\n    </tr>\n    <tr>\n      <th>3</th>\n      <td>4486519</td>\n      <td>2021-12-14</td>\n      <td>14:58:00</td>\n      <td>40.751440</td>\n      <td>-73.973970</td>\n      <td>0</td>\n      <td>0</td>\n      <td>Passing Too Closely</td>\n      <td>Unspecified</td>\n      <td>No Injury</td>\n      <td>Manhattan</td>\n      <td>37</td>\n      <td>Occupant</td>\n      <td>Male</td>\n      <td>Does Not Apply</td>\n      <td>Not Ejected</td>\n    </tr>\n    <tr>\n      <th>4</th>\n      <td>4486519</td>\n      <td>2021-12-14</td>\n      <td>14:58:00</td>\n      <td>40.751440</td>\n      <td>-73.973970</td>\n      <td>0</td>\n      <td>0</td>\n      <td>Passing Too Closely</td>\n      <td>Unspecified</td>\n      <td>No Injury</td>\n      <td>Manhattan</td>\n      <td>22</td>\n      <td>Occupant</td>\n      <td>Male</td>\n      <td>Does Not Apply</td>\n      <td>Not Ejected</td>\n    </tr>\n    <tr>\n      <th>5</th>\n      <td>4486519</td>\n      <td>2021-12-14</td>\n      <td>14:58:00</td>\n      <td>40.751440</td>\n      <td>-73.973970</td>\n      <td>0</td>\n      <td>0</td>\n      <td>Passing Too Closely</td>\n      <td>Unspecified</td>\n      <td>No Injury</td>\n      <td>Manhattan</td>\n      <td>37</td>\n      <td>Occupant</td>\n      <td>Unknown</td>\n      <td>NaN</td>\n      <td>NaN</td>\n    </tr>\n    <tr>\n      <th>6</th>\n      <td>4486934</td>\n      <td>2021-12-13</td>\n      <td>00:34:00</td>\n      <td>40.701275</td>\n      <td>-73.888870</td>\n      <td>0</td>\n      <td>0</td>\n      <td>Passing or Lane Usage Improper</td>\n      <td>Unspecified</td>\n      <td>No Injury</td>\n      <td>Queens</td>\n      <td>30</td>\n      <td>Occupant</td>\n      <td>Male</td>\n      <td>Does Not Apply</td>\n      <td>Not Ejected</td>\n    </tr>\n    <tr>\n      <th>7</th>\n      <td>4486934</td>\n      <td>2021-12-13</td>\n      <td>00:34:00</td>\n      <td>40.701275</td>\n      <td>-73.888870</td>\n      <td>0</td>\n      <td>0</td>\n      <td>Passing or Lane Usage Improper</td>\n      <td>Unspecified</td>\n      <td>No Injury</td>\n      <td>Queens</td>\n      <td>29</td>\n      <td>Occupant</td>\n      <td>Female</td>\n      <td>Does Not Apply</td>\n      <td>Not Ejected</td>\n    </tr>\n    <tr>\n      <th>8</th>\n      <td>4486934</td>\n      <td>2021-12-13</td>\n      <td>00:34:00</td>\n      <td>40.701275</td>\n      <td>-73.888870</td>\n      <td>0</td>\n      <td>0</td>\n      <td>Passing or Lane Usage Improper</td>\n      <td>Unspecified</td>\n      <td>No Injury</td>\n      <td>Queens</td>\n      <td>34</td>\n      <td>Occupant</td>\n      <td>Male</td>\n      <td>NaN</td>\n      <td>NaN</td>\n    </tr>\n    <tr>\n      <th>9</th>\n      <td>4486934</td>\n      <td>2021-12-13</td>\n      <td>00:34:00</td>\n      <td>40.701275</td>\n      <td>-73.888870</td>\n      <td>0</td>\n      <td>0</td>\n      <td>Passing or Lane Usage Improper</td>\n      <td>Unspecified</td>\n      <td>No Injury</td>\n      <td>Queens</td>\n      <td>34</td>\n      <td>Occupant</td>\n      <td>Male</td>\n      <td>Does Not Apply</td>\n      <td>Not Ejected</td>\n    </tr>\n  </tbody>\n</table>\n</div>"
     },
     "execution_count": 29,
     "metadata": {},
     "output_type": "execute_result"
    }
   ],
   "source": [
    "merge_df = pd.merge(location_df, person_detail_df, how='inner', on='COLLISION_ID')\n",
    "print(location_df.shape)\n",
    "print(person_detail_df.shape)\n",
    "print(merge_df.shape)\n",
    "merge_df.head(10)"
   ],
   "metadata": {
    "collapsed": false,
    "ExecuteTime": {
     "end_time": "2024-10-23T04:27:18.612504Z",
     "start_time": "2024-10-23T04:27:17.084271Z"
    }
   },
   "id": "f935025a52091d13",
   "execution_count": 29
  },
  {
   "cell_type": "code",
   "outputs": [],
   "source": [
    "merge_df.fillna({\n",
    "    'EMOTIONAL_STATUS': 'Unknown',\n",
    "    'SAFETY_EQUIPMENT': 'Unknown',\n",
    "    'EJECTION': 'Unknown',\n",
    "    'BODILY_INJURY': 'Unknown',\n",
    "    'PERSON_AGE': 0,\n",
    "    'PERSON_TYPE': 'Unknown',\n",
    "    'PERSON_SEX': 'Unknown'\n",
    "    \n",
    "}, inplace=True)\n",
    "\n",
    "merge_df = merge_df.replace({\n",
    "    'Does Not Apply': 'Unknown'\n",
    "})"
   ],
   "metadata": {
    "collapsed": false,
    "ExecuteTime": {
     "end_time": "2024-10-23T04:27:22.534074Z",
     "start_time": "2024-10-23T04:27:18.697668Z"
    }
   },
   "id": "e610d93280db4299",
   "execution_count": 30
  },
  {
   "cell_type": "code",
   "outputs": [
    {
     "data": {
      "text/plain": "    COLLISION_ID CRASH_DATE CRASH_TIME   LATITUDE  LONGITUDE  \\\n0        4486555 2021-12-14   17:05:00  40.709183 -73.956825   \n1        4486555 2021-12-14   17:05:00  40.709183 -73.956825   \n2        4486519 2021-12-14   14:58:00  40.751440 -73.973970   \n3        4486519 2021-12-14   14:58:00  40.751440 -73.973970   \n4        4486519 2021-12-14   14:58:00  40.751440 -73.973970   \n5        4486519 2021-12-14   14:58:00  40.751440 -73.973970   \n6        4486934 2021-12-13   00:34:00  40.701275 -73.888870   \n7        4486934 2021-12-13   00:34:00  40.701275 -73.888870   \n8        4486934 2021-12-13   00:34:00  40.701275 -73.888870   \n9        4486934 2021-12-13   00:34:00  40.701275 -73.888870   \n10       4487127 2021-12-14   16:50:00  40.675884 -73.755770   \n11       4487127 2021-12-14   16:50:00  40.675884 -73.755770   \n12       4487127 2021-12-14   16:50:00  40.675884 -73.755770   \n13       4487127 2021-12-14   16:50:00  40.675884 -73.755770   \n14       4486635 2021-12-14   23:10:00  40.666840 -73.789410   \n15       4486635 2021-12-14   23:10:00  40.666840 -73.789410   \n16       4486635 2021-12-14   23:10:00  40.666840 -73.789410   \n17       4486635 2021-12-14   23:10:00  40.666840 -73.789410   \n18       4486635 2021-12-14   23:10:00  40.666840 -73.789410   \n19       4486635 2021-12-14   23:10:00  40.666840 -73.789410   \n\n    NUMBER_OF_PERSONS_INJURED  NUMBER_OF_PERSONS_KILLED  \\\n0                           0                         0   \n1                           0                         0   \n2                           0                         0   \n3                           0                         0   \n4                           0                         0   \n5                           0                         0   \n6                           0                         0   \n7                           0                         0   \n8                           0                         0   \n9                           0                         0   \n10                          0                         0   \n11                          0                         0   \n12                          0                         0   \n13                          0                         0   \n14                          2                         0   \n15                          2                         0   \n16                          2                         0   \n17                          2                         0   \n18                          2                         0   \n19                          2                         0   \n\n     CONTRIBUTING_FACTOR_VEHICLE_1 CONTRIBUTING_FACTOR_VEHICLE_2  \\\n0              Passing Too Closely                   Unspecified   \n1              Passing Too Closely                   Unspecified   \n2              Passing Too Closely                   Unspecified   \n3              Passing Too Closely                   Unspecified   \n4              Passing Too Closely                   Unspecified   \n5              Passing Too Closely                   Unspecified   \n6   Passing or Lane Usage Improper                   Unspecified   \n7   Passing or Lane Usage Improper                   Unspecified   \n8   Passing or Lane Usage Improper                   Unspecified   \n9   Passing or Lane Usage Improper                   Unspecified   \n10              Turning Improperly                   Unspecified   \n11              Turning Improperly                   Unspecified   \n12              Turning Improperly                   Unspecified   \n13              Turning Improperly                   Unspecified   \n14  Reaction to Uninvolved Vehicle                   Unspecified   \n15  Reaction to Uninvolved Vehicle                   Unspecified   \n16  Reaction to Uninvolved Vehicle                   Unspecified   \n17  Reaction to Uninvolved Vehicle                   Unspecified   \n18  Reaction to Uninvolved Vehicle                   Unspecified   \n19  Reaction to Uninvolved Vehicle                   Unspecified   \n\n   ACCIDENT_SEVERITY    BOROUGH  PERSON_AGE PERSON_TYPE PERSON_SEX  \\\n0          No Injury   Brooklyn          37    Occupant       Male   \n1          No Injury   Brooklyn          32    Occupant     Female   \n2          No Injury  Manhattan          37    Occupant    Unknown   \n3          No Injury  Manhattan          37    Occupant       Male   \n4          No Injury  Manhattan          22    Occupant       Male   \n5          No Injury  Manhattan          37    Occupant    Unknown   \n6          No Injury     Queens          30    Occupant       Male   \n7          No Injury     Queens          29    Occupant     Female   \n8          No Injury     Queens          34    Occupant       Male   \n9          No Injury     Queens          34    Occupant       Male   \n10         No Injury     Queens          25    Occupant       Male   \n11         No Injury     Queens          25    Occupant       Male   \n12         No Injury     Queens          67    Occupant     Female   \n13         No Injury     Queens          67    Occupant     Female   \n14      Minor Injury     Queens          37    Occupant     Female   \n15      Minor Injury     Queens          46    Occupant     Female   \n16      Minor Injury     Queens          37    Occupant     Female   \n17      Minor Injury     Queens          37    Occupant     Female   \n18      Minor Injury     Queens          37    Occupant    UNKNOWN   \n19      Minor Injury     Queens          18    Occupant       Male   \n\n   BODILY_INJURY     EJECTION  \n0        Unknown      Unknown  \n1        Unknown  Not Ejected  \n2        Unknown      Unknown  \n3        Unknown  Not Ejected  \n4        Unknown  Not Ejected  \n5        Unknown      Unknown  \n6        Unknown  Not Ejected  \n7        Unknown  Not Ejected  \n8        Unknown      Unknown  \n9        Unknown  Not Ejected  \n10       Unknown      Unknown  \n11       Unknown  Not Ejected  \n12       Unknown      Unknown  \n13       Unknown  Not Ejected  \n14       Unknown      Unknown  \n15          Face  Not Ejected  \n16   Entire Body  Not Ejected  \n17       Unknown      Unknown  \n18       Unknown      Unknown  \n19       Unknown  Not Ejected  ",
      "text/html": "<div>\n<style scoped>\n    .dataframe tbody tr th:only-of-type {\n        vertical-align: middle;\n    }\n\n    .dataframe tbody tr th {\n        vertical-align: top;\n    }\n\n    .dataframe thead th {\n        text-align: right;\n    }\n</style>\n<table border=\"1\" class=\"dataframe\">\n  <thead>\n    <tr style=\"text-align: right;\">\n      <th></th>\n      <th>COLLISION_ID</th>\n      <th>CRASH_DATE</th>\n      <th>CRASH_TIME</th>\n      <th>LATITUDE</th>\n      <th>LONGITUDE</th>\n      <th>NUMBER_OF_PERSONS_INJURED</th>\n      <th>NUMBER_OF_PERSONS_KILLED</th>\n      <th>CONTRIBUTING_FACTOR_VEHICLE_1</th>\n      <th>CONTRIBUTING_FACTOR_VEHICLE_2</th>\n      <th>ACCIDENT_SEVERITY</th>\n      <th>BOROUGH</th>\n      <th>PERSON_AGE</th>\n      <th>PERSON_TYPE</th>\n      <th>PERSON_SEX</th>\n      <th>BODILY_INJURY</th>\n      <th>EJECTION</th>\n    </tr>\n  </thead>\n  <tbody>\n    <tr>\n      <th>0</th>\n      <td>4486555</td>\n      <td>2021-12-14</td>\n      <td>17:05:00</td>\n      <td>40.709183</td>\n      <td>-73.956825</td>\n      <td>0</td>\n      <td>0</td>\n      <td>Passing Too Closely</td>\n      <td>Unspecified</td>\n      <td>No Injury</td>\n      <td>Brooklyn</td>\n      <td>37</td>\n      <td>Occupant</td>\n      <td>Male</td>\n      <td>Unknown</td>\n      <td>Unknown</td>\n    </tr>\n    <tr>\n      <th>1</th>\n      <td>4486555</td>\n      <td>2021-12-14</td>\n      <td>17:05:00</td>\n      <td>40.709183</td>\n      <td>-73.956825</td>\n      <td>0</td>\n      <td>0</td>\n      <td>Passing Too Closely</td>\n      <td>Unspecified</td>\n      <td>No Injury</td>\n      <td>Brooklyn</td>\n      <td>32</td>\n      <td>Occupant</td>\n      <td>Female</td>\n      <td>Unknown</td>\n      <td>Not Ejected</td>\n    </tr>\n    <tr>\n      <th>2</th>\n      <td>4486519</td>\n      <td>2021-12-14</td>\n      <td>14:58:00</td>\n      <td>40.751440</td>\n      <td>-73.973970</td>\n      <td>0</td>\n      <td>0</td>\n      <td>Passing Too Closely</td>\n      <td>Unspecified</td>\n      <td>No Injury</td>\n      <td>Manhattan</td>\n      <td>37</td>\n      <td>Occupant</td>\n      <td>Unknown</td>\n      <td>Unknown</td>\n      <td>Unknown</td>\n    </tr>\n    <tr>\n      <th>3</th>\n      <td>4486519</td>\n      <td>2021-12-14</td>\n      <td>14:58:00</td>\n      <td>40.751440</td>\n      <td>-73.973970</td>\n      <td>0</td>\n      <td>0</td>\n      <td>Passing Too Closely</td>\n      <td>Unspecified</td>\n      <td>No Injury</td>\n      <td>Manhattan</td>\n      <td>37</td>\n      <td>Occupant</td>\n      <td>Male</td>\n      <td>Unknown</td>\n      <td>Not Ejected</td>\n    </tr>\n    <tr>\n      <th>4</th>\n      <td>4486519</td>\n      <td>2021-12-14</td>\n      <td>14:58:00</td>\n      <td>40.751440</td>\n      <td>-73.973970</td>\n      <td>0</td>\n      <td>0</td>\n      <td>Passing Too Closely</td>\n      <td>Unspecified</td>\n      <td>No Injury</td>\n      <td>Manhattan</td>\n      <td>22</td>\n      <td>Occupant</td>\n      <td>Male</td>\n      <td>Unknown</td>\n      <td>Not Ejected</td>\n    </tr>\n    <tr>\n      <th>5</th>\n      <td>4486519</td>\n      <td>2021-12-14</td>\n      <td>14:58:00</td>\n      <td>40.751440</td>\n      <td>-73.973970</td>\n      <td>0</td>\n      <td>0</td>\n      <td>Passing Too Closely</td>\n      <td>Unspecified</td>\n      <td>No Injury</td>\n      <td>Manhattan</td>\n      <td>37</td>\n      <td>Occupant</td>\n      <td>Unknown</td>\n      <td>Unknown</td>\n      <td>Unknown</td>\n    </tr>\n    <tr>\n      <th>6</th>\n      <td>4486934</td>\n      <td>2021-12-13</td>\n      <td>00:34:00</td>\n      <td>40.701275</td>\n      <td>-73.888870</td>\n      <td>0</td>\n      <td>0</td>\n      <td>Passing or Lane Usage Improper</td>\n      <td>Unspecified</td>\n      <td>No Injury</td>\n      <td>Queens</td>\n      <td>30</td>\n      <td>Occupant</td>\n      <td>Male</td>\n      <td>Unknown</td>\n      <td>Not Ejected</td>\n    </tr>\n    <tr>\n      <th>7</th>\n      <td>4486934</td>\n      <td>2021-12-13</td>\n      <td>00:34:00</td>\n      <td>40.701275</td>\n      <td>-73.888870</td>\n      <td>0</td>\n      <td>0</td>\n      <td>Passing or Lane Usage Improper</td>\n      <td>Unspecified</td>\n      <td>No Injury</td>\n      <td>Queens</td>\n      <td>29</td>\n      <td>Occupant</td>\n      <td>Female</td>\n      <td>Unknown</td>\n      <td>Not Ejected</td>\n    </tr>\n    <tr>\n      <th>8</th>\n      <td>4486934</td>\n      <td>2021-12-13</td>\n      <td>00:34:00</td>\n      <td>40.701275</td>\n      <td>-73.888870</td>\n      <td>0</td>\n      <td>0</td>\n      <td>Passing or Lane Usage Improper</td>\n      <td>Unspecified</td>\n      <td>No Injury</td>\n      <td>Queens</td>\n      <td>34</td>\n      <td>Occupant</td>\n      <td>Male</td>\n      <td>Unknown</td>\n      <td>Unknown</td>\n    </tr>\n    <tr>\n      <th>9</th>\n      <td>4486934</td>\n      <td>2021-12-13</td>\n      <td>00:34:00</td>\n      <td>40.701275</td>\n      <td>-73.888870</td>\n      <td>0</td>\n      <td>0</td>\n      <td>Passing or Lane Usage Improper</td>\n      <td>Unspecified</td>\n      <td>No Injury</td>\n      <td>Queens</td>\n      <td>34</td>\n      <td>Occupant</td>\n      <td>Male</td>\n      <td>Unknown</td>\n      <td>Not Ejected</td>\n    </tr>\n    <tr>\n      <th>10</th>\n      <td>4487127</td>\n      <td>2021-12-14</td>\n      <td>16:50:00</td>\n      <td>40.675884</td>\n      <td>-73.755770</td>\n      <td>0</td>\n      <td>0</td>\n      <td>Turning Improperly</td>\n      <td>Unspecified</td>\n      <td>No Injury</td>\n      <td>Queens</td>\n      <td>25</td>\n      <td>Occupant</td>\n      <td>Male</td>\n      <td>Unknown</td>\n      <td>Unknown</td>\n    </tr>\n    <tr>\n      <th>11</th>\n      <td>4487127</td>\n      <td>2021-12-14</td>\n      <td>16:50:00</td>\n      <td>40.675884</td>\n      <td>-73.755770</td>\n      <td>0</td>\n      <td>0</td>\n      <td>Turning Improperly</td>\n      <td>Unspecified</td>\n      <td>No Injury</td>\n      <td>Queens</td>\n      <td>25</td>\n      <td>Occupant</td>\n      <td>Male</td>\n      <td>Unknown</td>\n      <td>Not Ejected</td>\n    </tr>\n    <tr>\n      <th>12</th>\n      <td>4487127</td>\n      <td>2021-12-14</td>\n      <td>16:50:00</td>\n      <td>40.675884</td>\n      <td>-73.755770</td>\n      <td>0</td>\n      <td>0</td>\n      <td>Turning Improperly</td>\n      <td>Unspecified</td>\n      <td>No Injury</td>\n      <td>Queens</td>\n      <td>67</td>\n      <td>Occupant</td>\n      <td>Female</td>\n      <td>Unknown</td>\n      <td>Unknown</td>\n    </tr>\n    <tr>\n      <th>13</th>\n      <td>4487127</td>\n      <td>2021-12-14</td>\n      <td>16:50:00</td>\n      <td>40.675884</td>\n      <td>-73.755770</td>\n      <td>0</td>\n      <td>0</td>\n      <td>Turning Improperly</td>\n      <td>Unspecified</td>\n      <td>No Injury</td>\n      <td>Queens</td>\n      <td>67</td>\n      <td>Occupant</td>\n      <td>Female</td>\n      <td>Unknown</td>\n      <td>Not Ejected</td>\n    </tr>\n    <tr>\n      <th>14</th>\n      <td>4486635</td>\n      <td>2021-12-14</td>\n      <td>23:10:00</td>\n      <td>40.666840</td>\n      <td>-73.789410</td>\n      <td>2</td>\n      <td>0</td>\n      <td>Reaction to Uninvolved Vehicle</td>\n      <td>Unspecified</td>\n      <td>Minor Injury</td>\n      <td>Queens</td>\n      <td>37</td>\n      <td>Occupant</td>\n      <td>Female</td>\n      <td>Unknown</td>\n      <td>Unknown</td>\n    </tr>\n    <tr>\n      <th>15</th>\n      <td>4486635</td>\n      <td>2021-12-14</td>\n      <td>23:10:00</td>\n      <td>40.666840</td>\n      <td>-73.789410</td>\n      <td>2</td>\n      <td>0</td>\n      <td>Reaction to Uninvolved Vehicle</td>\n      <td>Unspecified</td>\n      <td>Minor Injury</td>\n      <td>Queens</td>\n      <td>46</td>\n      <td>Occupant</td>\n      <td>Female</td>\n      <td>Face</td>\n      <td>Not Ejected</td>\n    </tr>\n    <tr>\n      <th>16</th>\n      <td>4486635</td>\n      <td>2021-12-14</td>\n      <td>23:10:00</td>\n      <td>40.666840</td>\n      <td>-73.789410</td>\n      <td>2</td>\n      <td>0</td>\n      <td>Reaction to Uninvolved Vehicle</td>\n      <td>Unspecified</td>\n      <td>Minor Injury</td>\n      <td>Queens</td>\n      <td>37</td>\n      <td>Occupant</td>\n      <td>Female</td>\n      <td>Entire Body</td>\n      <td>Not Ejected</td>\n    </tr>\n    <tr>\n      <th>17</th>\n      <td>4486635</td>\n      <td>2021-12-14</td>\n      <td>23:10:00</td>\n      <td>40.666840</td>\n      <td>-73.789410</td>\n      <td>2</td>\n      <td>0</td>\n      <td>Reaction to Uninvolved Vehicle</td>\n      <td>Unspecified</td>\n      <td>Minor Injury</td>\n      <td>Queens</td>\n      <td>37</td>\n      <td>Occupant</td>\n      <td>Female</td>\n      <td>Unknown</td>\n      <td>Unknown</td>\n    </tr>\n    <tr>\n      <th>18</th>\n      <td>4486635</td>\n      <td>2021-12-14</td>\n      <td>23:10:00</td>\n      <td>40.666840</td>\n      <td>-73.789410</td>\n      <td>2</td>\n      <td>0</td>\n      <td>Reaction to Uninvolved Vehicle</td>\n      <td>Unspecified</td>\n      <td>Minor Injury</td>\n      <td>Queens</td>\n      <td>37</td>\n      <td>Occupant</td>\n      <td>UNKNOWN</td>\n      <td>Unknown</td>\n      <td>Unknown</td>\n    </tr>\n    <tr>\n      <th>19</th>\n      <td>4486635</td>\n      <td>2021-12-14</td>\n      <td>23:10:00</td>\n      <td>40.666840</td>\n      <td>-73.789410</td>\n      <td>2</td>\n      <td>0</td>\n      <td>Reaction to Uninvolved Vehicle</td>\n      <td>Unspecified</td>\n      <td>Minor Injury</td>\n      <td>Queens</td>\n      <td>18</td>\n      <td>Occupant</td>\n      <td>Male</td>\n      <td>Unknown</td>\n      <td>Not Ejected</td>\n    </tr>\n  </tbody>\n</table>\n</div>"
     },
     "execution_count": 31,
     "metadata": {},
     "output_type": "execute_result"
    }
   ],
   "source": [
    "merge_df.head(20)"
   ],
   "metadata": {
    "collapsed": false,
    "ExecuteTime": {
     "end_time": "2024-10-23T04:27:22.544955Z",
     "start_time": "2024-10-23T04:27:22.533843Z"
    }
   },
   "id": "c0aca5f29d3e7695",
   "execution_count": 31
  },
  {
   "cell_type": "code",
   "outputs": [],
   "source": [
    "# Save to a csv file\n",
    "person_detail_df.to_csv(str(dir_path / Path('data_files/clean_data/person_detail.csv')), index=False)"
   ],
   "metadata": {
    "collapsed": false,
    "ExecuteTime": {
     "end_time": "2024-10-23T04:27:29.262900Z",
     "start_time": "2024-10-23T04:27:22.545729Z"
    }
   },
   "id": "6bb28080cca9fa54",
   "execution_count": 32
  },
  {
   "cell_type": "code",
   "outputs": [],
   "source": [
    "# Save to a csv file\n",
    "merge_df.to_csv(str(dir_path / Path('data_files/clean_data/merged_data.csv')), index=False)"
   ],
   "metadata": {
    "collapsed": false,
    "ExecuteTime": {
     "end_time": "2024-10-23T04:27:47.325031Z",
     "start_time": "2024-10-23T04:27:29.263576Z"
    }
   },
   "id": "2fa321679758426a",
   "execution_count": 33
  }
 ],
 "metadata": {
  "kernelspec": {
   "display_name": "Python 3 (ipykernel)",
   "language": "python",
   "name": "python3"
  },
  "language_info": {
   "codemirror_mode": {
    "name": "ipython",
    "version": 3
   },
   "file_extension": ".py",
   "mimetype": "text/x-python",
   "name": "python",
   "nbconvert_exporter": "python",
   "pygments_lexer": "ipython3",
   "version": "3.10.9"
  }
 },
 "nbformat": 4,
 "nbformat_minor": 5
}
